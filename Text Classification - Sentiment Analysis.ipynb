{
 "cells": [
  {
   "cell_type": "markdown",
   "metadata": {},
   "source": [
    "# Text Classification - Sentiment Analysis"
   ]
  },
  {
   "cell_type": "markdown",
   "metadata": {},
   "source": [
    "### DATA\n",
    "\n",
    "The data you will use are taken from here: http://www.cs.cornell.edu/people/pabo/movie-review-data/ and you can find it in the ./data_sentiment folder in CSV format:\n",
    "\n",
    "data_sentiment/train.csv: contains 1,400 reviews, 700 positive (label: 1) and 700 negative (label: 0) to be used for training.\n",
    "\n",
    "data_sentiment/dev.csv: contains 200 reviews, 100 positive and 100 negative to be used for hyperparameter selection and monitoring the training process.\n",
    "\n",
    "data_sentiment/test.csv: contains 400 reviews, 200 positive and 200 negative to be used for testing."
   ]
  },
  {
   "cell_type": "code",
   "execution_count": 1,
   "metadata": {
    "ExecuteTime": {
     "end_time": "2020-03-27T13:41:17.642162Z",
     "start_time": "2020-03-27T13:41:16.891940Z"
    },
    "id": "kuiW2uRUiiyo"
   },
   "outputs": [],
   "source": [
    "import pandas as pd\n",
    "import numpy as np\n",
    "from collections import Counter\n",
    "import re\n",
    "import matplotlib.pyplot as plt\n",
    "from sklearn.metrics import accuracy_score, precision_score, recall_score, f1_score\n",
    "import random\n",
    "\n",
    "# fixing random seed for reproducibility\n",
    "random.seed(123)\n",
    "np.random.seed(123)\n"
   ]
  },
  {
   "cell_type": "code",
   "execution_count": 2,
   "metadata": {
    "ExecuteTime": {
     "end_time": "2020-02-15T14:17:28.145788Z",
     "start_time": "2020-02-15T14:17:28.066100Z"
    },
    "id": "A5Mi_zaDiiyq"
   },
   "outputs": [],
   "source": [
    "df_train=pd.read_csv('data_sentiment/train.csv', names=['feature', 'label'])\n",
    "df_dev=pd.read_csv('data_sentiment/dev.csv', names=['feature', 'label'])\n",
    "df_test=pd.read_csv('data_sentiment/test.csv', names=['feature', 'label'])"
   ]
  },
  {
   "cell_type": "code",
   "execution_count": 3,
   "metadata": {
    "ExecuteTime": {
     "end_time": "2020-02-15T14:17:28.900892Z",
     "start_time": "2020-02-15T14:17:28.891221Z"
    },
    "colab": {
     "base_uri": "https://localhost:8080/",
     "height": 423
    },
    "id": "b8HipoG-iiyr",
    "outputId": "286bcfb6-e504-4b26-caf2-41f9ee4f9873",
    "scrolled": true
   },
   "outputs": [
    {
     "data": {
      "text/html": [
       "<div>\n",
       "<style scoped>\n",
       "    .dataframe tbody tr th:only-of-type {\n",
       "        vertical-align: middle;\n",
       "    }\n",
       "\n",
       "    .dataframe tbody tr th {\n",
       "        vertical-align: top;\n",
       "    }\n",
       "\n",
       "    .dataframe thead th {\n",
       "        text-align: right;\n",
       "    }\n",
       "</style>\n",
       "<table border=\"1\" class=\"dataframe\">\n",
       "  <thead>\n",
       "    <tr style=\"text-align: right;\">\n",
       "      <th></th>\n",
       "      <th>feature</th>\n",
       "      <th>label</th>\n",
       "    </tr>\n",
       "  </thead>\n",
       "  <tbody>\n",
       "    <tr>\n",
       "      <th>0</th>\n",
       "      <td>note : some may consider portions of the follo...</td>\n",
       "      <td>1</td>\n",
       "    </tr>\n",
       "    <tr>\n",
       "      <th>1</th>\n",
       "      <td>note : some may consider portions of the follo...</td>\n",
       "      <td>1</td>\n",
       "    </tr>\n",
       "    <tr>\n",
       "      <th>2</th>\n",
       "      <td>every once in a while you see a film that is s...</td>\n",
       "      <td>1</td>\n",
       "    </tr>\n",
       "    <tr>\n",
       "      <th>3</th>\n",
       "      <td>when i was growing up in 1970s , boys in my sc...</td>\n",
       "      <td>1</td>\n",
       "    </tr>\n",
       "    <tr>\n",
       "      <th>4</th>\n",
       "      <td>the muppet movie is the first , and the best m...</td>\n",
       "      <td>1</td>\n",
       "    </tr>\n",
       "    <tr>\n",
       "      <th>...</th>\n",
       "      <td>...</td>\n",
       "      <td>...</td>\n",
       "    </tr>\n",
       "    <tr>\n",
       "      <th>1395</th>\n",
       "      <td>it's been hours since i returned from the much...</td>\n",
       "      <td>0</td>\n",
       "    </tr>\n",
       "    <tr>\n",
       "      <th>1396</th>\n",
       "      <td>i'm not sure who the genius is who came up wit...</td>\n",
       "      <td>0</td>\n",
       "    </tr>\n",
       "    <tr>\n",
       "      <th>1397</th>\n",
       "      <td>the classic story &amp; the production which ruine...</td>\n",
       "      <td>0</td>\n",
       "    </tr>\n",
       "    <tr>\n",
       "      <th>1398</th>\n",
       "      <td>according to popular film opinion , a film's g...</td>\n",
       "      <td>0</td>\n",
       "    </tr>\n",
       "    <tr>\n",
       "      <th>1399</th>\n",
       "      <td>i still can't figure out why people went in dr...</td>\n",
       "      <td>0</td>\n",
       "    </tr>\n",
       "  </tbody>\n",
       "</table>\n",
       "<p>1400 rows × 2 columns</p>\n",
       "</div>"
      ],
      "text/plain": [
       "                                                feature  label\n",
       "0     note : some may consider portions of the follo...      1\n",
       "1     note : some may consider portions of the follo...      1\n",
       "2     every once in a while you see a film that is s...      1\n",
       "3     when i was growing up in 1970s , boys in my sc...      1\n",
       "4     the muppet movie is the first , and the best m...      1\n",
       "...                                                 ...    ...\n",
       "1395  it's been hours since i returned from the much...      0\n",
       "1396  i'm not sure who the genius is who came up wit...      0\n",
       "1397  the classic story & the production which ruine...      0\n",
       "1398  according to popular film opinion , a film's g...      0\n",
       "1399  i still can't figure out why people went in dr...      0\n",
       "\n",
       "[1400 rows x 2 columns]"
      ]
     },
     "execution_count": 3,
     "metadata": {},
     "output_type": "execute_result"
    }
   ],
   "source": [
    "df_train"
   ]
  },
  {
   "cell_type": "markdown",
   "metadata": {
    "id": "6WY94n9Aiiys"
   },
   "source": [
    "Putting the raw texts into Python lists and their corresponding labels into NumPy arrays:\n"
   ]
  },
  {
   "cell_type": "code",
   "execution_count": 4,
   "metadata": {
    "ExecuteTime": {
     "end_time": "2020-02-15T14:17:31.115577Z",
     "start_time": "2020-02-15T14:17:31.108038Z"
    },
    "id": "CZXtnZsIiiys"
   },
   "outputs": [],
   "source": [
    "train_list_x = df_train['feature'].tolist()\n",
    "dev_list_x = df_dev['feature'].tolist()\n",
    "test_list_x = df_test['feature'].tolist()\n",
    "\n",
    "train_arr_y = df_train['label'].to_numpy()\n",
    "dev_arr_y = df_dev['label'].to_numpy()\n",
    "test_arr_y = df_test['label'].to_numpy()"
   ]
  },
  {
   "cell_type": "code",
   "execution_count": 5,
   "metadata": {
    "ExecuteTime": {
     "end_time": "2020-02-15T14:17:31.860420Z",
     "start_time": "2020-02-15T14:17:31.855439Z"
    },
    "id": "mh7laCSmiiyu"
   },
   "outputs": [],
   "source": [
    "# Text processing is important part of NLP since it can provide a significant improvement in the model performance.\n",
    "# All the punctuations from the text are removed\n",
    "# and then expended stopwords are removed from the text to remove non-content words (meaningless terms)\n",
    "\n",
    "train_list_x = [(re.sub(r'[^\\w\\_\\s]','',str(item))) for item in train_list_x] \n",
    "train_list_x = [(re.sub(\"\\d+\",'',str(item))) for item in train_list_x]\n",
    "\n",
    "dev_list_x = [(re.sub(r'[^\\w\\_\\s]','',str(item))) for item in dev_list_x]\n",
    "dev_list_x = [(re.sub(\"\\d+\",'',str(item))) for item in dev_list_x]\n",
    "\n",
    "test_list_x = [(re.sub(r'[^\\w\\_\\s]','',str(item))) for item in test_list_x]\n",
    "test_list_x = [(re.sub(\"\\d+\",'',str(item))) for item in test_list_x]\n",
    "\n",
    "stop_words = ['a', 'able', 'about', 'above', 'according', 'accordingly', 'across', 'actually', 'after', 'afterwards',\n",
    "              'again', 'against', 'all', 'allow', 'allows', 'almost', 'alone', 'along', 'already', 'also', 'although',\n",
    "              'always', 'am', 'among', 'amongst', 'an', 'and', 'another', 'any', 'anybody', 'anyhow', 'anyone',\n",
    "              'anyway', 'anyways', 'anywhere', 'apart', 'appear', 'appreciate', 'appropriate', 'are', 'around', 'as',\n",
    "              'aside', 'ask', 'asking', 'associated', 'at', 'available', 'away', 'awfully', 'b', 'be', 'became',\n",
    "              'because', 'become', 'becomes', 'becoming', 'been', 'before', 'beforehand', 'behind', 'being', 'believe',\n",
    "              'below', 'beside', 'besides', 'best', 'better', 'between', 'beyond', 'both', 'brief', 'but', 'by', 'c',\n",
    "              'came', 'can', 'cannot', 'cant', 'cause', 'causes', 'certain', 'certainly', 'changes', 'clearly', 'co',\n",
    "              'com', 'come', 'comes', 'concerning', 'consequently', 'consider', 'considering', 'contain', 'containing',\n",
    "              'contains', 'corresponding', 'could', 'course', 'currently', 'd', 'definitely', 'described', 'despite',\n",
    "              'did', 'different', 'do', 'does', 'doing', 'done', 'down', 'downwards', 'during', 'e', 'each', 'edu',\n",
    "              'eg', 'eight', 'either', 'else', 'elsewhere', 'enough', 'entirely', 'especially', 'et', 'etc', 'even',\n",
    "              'ever', 'every', 'everybody', 'everyone', 'everything', 'everywhere', 'ex', 'exactly', 'example',\n",
    "              'except', 'f', 'far', 'few', 'fifth', 'first', 'five', 'followed', 'following', 'follows', 'for',\n",
    "              'former', 'formerly', 'forth', 'four', 'from', 'further', 'furthermore', 'g', 'get', 'gets', 'getting',\n",
    "              'given', 'gives', 'go', 'goes', 'going', 'gone', 'got', 'gotten', 'greetings', 'h', 'had', 'happens',\n",
    "              'hardly', 'has', 'have', 'having', 'he', 'hello', 'help', 'hence', 'her', 'here', 'hereafter', 'hereby',\n",
    "              'herein', 'hereupon', 'hers', 'herself', 'hi', 'him', 'himself', 'his', 'hither', 'hopefully', 'how',\n",
    "              'howbeit', 'however', 'i', 'ie', 'if', 'ignored', 'immediate', 'in', 'inasmuch', 'inc', 'indeed',\n",
    "              'indicate', 'indicated', 'indicates', 'inner', 'insofar', 'instead', 'into', 'inward', 'is', 'it',\n",
    "              'its', 'itself', 'j', 'just', 'k', 'keep', 'keeps', 'kept', 'know', 'knows', 'known', 'l', 'last',\n",
    "              'lately', 'later', 'latter', 'latterly', 'least', 'less', 'lest', 'let', 'like', 'liked', 'likely',\n",
    "              'little', 'look', 'looking', 'looks', 'ltd', 'm', 'mainly', 'many', 'may', 'maybe', 'me', 'mean',\n",
    "              'meanwhile', 'merely', 'might', 'more', 'moreover', 'most', 'mostly', 'much', 'must', 'my', 'myself',\n",
    "              'n', 'name', 'namely', 'nd', 'near', 'nearly', 'necessary', 'need', 'needs', 'neither', 'never',\n",
    "              'nevertheless', 'new', 'next', 'nine', 'no', 'nobody', 'non', 'none', 'noone', 'nor', 'normally',\n",
    "              'not', 'nothing', 'novel', 'now', 'nowhere', 'o', 'obviously', 'of', 'off', 'often', 'oh', 'ok',\n",
    "              'okay', 'old', 'on', 'once', 'one', 'ones', 'only', 'onto', 'or', 'other', 'others', 'otherwise',\n",
    "              'ought', 'our', 'ours', 'ourselves', 'out', 'outside', 'over', 'overall', 'own', 'p', 'particular',\n",
    "              'particularly', 'per', 'perhaps', 'placed', 'please', 'plus', 'possible', 'presumably', 'probably',\n",
    "              'provides', 'q', 'que', 'quite', 'qv', 'r', 'rather', 'rd', 're', 'really', 'reasonably', 'regarding',\n",
    "              'regardless', 'regards', 'relatively', 'respectively', 'right', 's', 'said', 'same', 'saw', 'say',\n",
    "              'saying', 'says', 'second', 'secondly', 'see', 'seeing', 'seem', 'seemed', 'seeming', 'seems', 'seen',\n",
    "              'self', 'selves', 'sensible', 'sent', 'serious', 'seriously', 'seven', 'several', 'shall', 'she',\n",
    "              'since', 'six', 'so', 'some', 'somebody', 'somehow', 'someone', 'something', 'sometime', 'sometimes',\n",
    "              'somewhat', 'somewhere', 'soon', 'sorry', 'specified', 'specify', 'specifying', 'still', 'sub', 'such',\n",
    "              'sup', 'sure', 't', 'take', 'taken', 'tell', 'tends', 'th', 'than', 'thank', 'thanks', 'thanx', 'that',\n",
    "              'thats', 'the', '_the', 'their', 'theirs', 'them', 'themselves', 'then', 'thence', 'there', 'thereafter', \n",
    "              'thereby', 'therefore', 'therein', 'theres', 'thereupon', 'these', 'they', 'think', 'third', 'this',\n",
    "              'thorough', 'thoroughly', 'those', 'though', 'three', 'through', 'throughout', 'thru', 'thus', 'to',\n",
    "              'together', 'too', 'took', 'toward', 'towards', 'tried', 'tries', 'truly', 'try', 'trying', 'twice', \n",
    "              'two', 'u', 'un', 'under', 'unfortunately', 'unless', 'unlikely', 'until', 'unto', 'up', 'upon', 'us',\n",
    "              'use', 'used', 'useful', 'uses', 'using', 'usually', 'uucp', 'v', 'value', 'various', 'very', 'via',\n",
    "              'viz', 'vs', 'w', 'want', 'wants', 'was', 'way', 'we', 'welcome', 'well', 'went', 'were', 'what', \n",
    "              'whatever', 'when', 'whence', 'whenever', 'where', 'whereafter', 'whereas', 'whereby', 'wherein',\n",
    "              'whereupon', 'wherever', 'whether', 'which', 'while', 'whither', 'who', 'whoever', 'whole', 'whom',\n",
    "              'whose', 'why', 'will', 'willing', 'wish', 'with', 'within', 'without', 'wonder', 'would', 'x', 'y',\n",
    "              'yes', 'yet', 'you', 'your', 'yours', 'yourself', 'yourselves', 'z','anything', 'should']"
   ]
  },
  {
   "cell_type": "code",
   "execution_count": 6,
   "metadata": {
    "ExecuteTime": {
     "end_time": "2020-02-15T14:17:33.169090Z",
     "start_time": "2020-02-15T14:17:33.161268Z"
    },
    "id": "luDSXyEviiyv"
   },
   "outputs": [],
   "source": [
    "# simple white space tokenisation applied [using \"split()\" function] inside the extract_ngrams function.\n",
    "\n",
    "def extract_ngrams(x_raw, n = (1,2,3), stop_words=stop_words, vocab = set(), char_ngrams = False):\n",
    "\n",
    "    x_raw_unigrams = ([term for term in (x_raw.split()) if term not in stop_words])\n",
    "    ngrams = []\n",
    "    if not char_ngrams:\n",
    "        for num in n:\n",
    "            ngrams+= [x_raw_unigrams[i:i+num] for i in range(len(x_raw_unigrams)-num+1)]\n",
    "            \n",
    "    if char_ngrams:\n",
    "        for num in n:\n",
    "            for token in x_raw_unigrams:\n",
    "                ngrams += ([token[i:i+num] for i in range(len(token)-num+1)])\n",
    "                \n",
    "    return ngrams"
   ]
  },
  {
   "cell_type": "code",
   "execution_count": 7,
   "metadata": {
    "id": "STKs0s6siiyw"
   },
   "outputs": [],
   "source": [
    "# It is just to see the all ngrams and ch_ngrams clear and make them more readable\n",
    "# there are 2 modify functions for ngrams and ch_ngrams\n",
    " \n",
    "def modify_ngrams(docs):\n",
    "    modified_ngrams = []\n",
    "    for k in range(len(docs)):\n",
    "        ngrams = np.array([' '.join([str(ngram) for ngram in doc]) for doc in docs[k]])\n",
    "        modified_ngrams.append(ngrams)\n",
    "    return modified_ngrams"
   ]
  },
  {
   "cell_type": "code",
   "execution_count": 8,
   "metadata": {
    "id": "QkaXpcj4iiyx"
   },
   "outputs": [],
   "source": [
    "def modify_ch_ngrams(docs):\n",
    "    modified_ngrams = []\n",
    "    for k in range(len(docs)):\n",
    "        ngrams = np.array([''.join([str(ngram) for ngram in doc]) for doc in docs[k]])\n",
    "        modified_ngrams.append(ngrams)\n",
    "    return modified_ngrams"
   ]
  },
  {
   "cell_type": "code",
   "execution_count": 9,
   "metadata": {
    "id": "2Vq4E7Nbiiyx"
   },
   "outputs": [],
   "source": [
    "ngrams_train = modify_ngrams([extract_ngrams(train_list_x[i], char_ngrams=False, n =(1,2,3))\n",
    "                              for i in range(len(train_list_x))])\n",
    "ngrams_dev = modify_ngrams([extract_ngrams(dev_list_x[i], char_ngrams=False, n =(1,2,3))\n",
    "                            for i in range(len(dev_list_x))])\n",
    "ngrams_test = modify_ngrams([extract_ngrams(test_list_x[i], char_ngrams=False, n =(1,2,3))\n",
    "                             for i in range(len(test_list_x))])\n",
    "\n",
    "ch_ngrams_train = modify_ch_ngrams([extract_ngrams(train_list_x[i], char_ngrams=True, n =(4,5))\n",
    "                                    for i in range(len(train_list_x))])\n",
    "ch_ngrams_dev = modify_ch_ngrams([extract_ngrams(dev_list_x[i], char_ngrams=True, n =(4,5))\n",
    "                                  for i in range(len(dev_list_x))])\n",
    "ch_ngrams_test = modify_ch_ngrams([extract_ngrams(test_list_x[i], char_ngrams=True, n =(4,5))\n",
    "                                   for i in range(len(test_list_x))])"
   ]
  },
  {
   "cell_type": "code",
   "execution_count": 10,
   "metadata": {
    "ExecuteTime": {
     "end_time": "2020-02-15T14:17:35.821240Z",
     "start_time": "2020-02-15T14:17:35.814722Z"
    },
    "id": "gciUOD0ziiyx"
   },
   "outputs": [],
   "source": [
    "# and simple white space tokenisation applied ( using \"split()\" function ) inside the extract_ngrams function.\n",
    "\n",
    "def get_vocab(X_raw, min_df= 10, keep_topN=5000, char_ngrams=False):\n",
    "    df=Counter()\n",
    "    for ngram in X_raw:\n",
    "        df.update(set(ngram))\n",
    "    df = Counter({k: c for k, c in df.items() if c >= min_df})\n",
    "    c = Counter(np.concatenate(X_raw))\n",
    "    ngram_counts = dict(Counter({k: c for k, c in c.items() if k in df.keys()}).most_common(keep_topN))\n",
    "    df = Counter({k: c for k, c in df.items() if k in ngram_counts.keys()})\n",
    "    df = dict(sorted(df.items(), key=lambda pair: pair[0], reverse=False))\n",
    "    vocab = set(df)   \n",
    "    return  vocab, df, ngram_counts"
   ]
  },
  {
   "cell_type": "code",
   "execution_count": 11,
   "metadata": {
    "ExecuteTime": {
     "end_time": "2020-02-15T14:17:39.319793Z",
     "start_time": "2020-02-15T14:17:36.836545Z"
    },
    "id": "YRLuzjZciiyy"
   },
   "outputs": [],
   "source": [
    "vocab, df, ngram_counts = get_vocab(ngrams_train, char_ngrams=False)\n",
    "vocab_ch, df_ch, ngram_counts_ch = get_vocab(ch_ngrams_train, char_ngrams=True)"
   ]
  },
  {
   "cell_type": "code",
   "execution_count": 12,
   "metadata": {
    "ExecuteTime": {
     "end_time": "2020-02-15T14:17:39.326811Z",
     "start_time": "2020-02-15T14:17:39.322256Z"
    },
    "id": "c-B9G4_Iiiyy"
   },
   "outputs": [],
   "source": [
    "id_vocab = dict(enumerate((sorted(vocab))))\n",
    "vocab_id = {val:key for key,val in id_vocab.items()}\n",
    "\n",
    "id_vocab_ch = dict(enumerate((sorted(vocab_ch))))\n",
    "vocab_id_ch = {val:key for key,val in id_vocab_ch.items()}"
   ]
  },
  {
   "cell_type": "code",
   "execution_count": 13,
   "metadata": {
    "ExecuteTime": {
     "end_time": "2020-02-15T14:17:40.213253Z",
     "start_time": "2020-02-15T14:17:39.329147Z"
    },
    "id": "UoeP2Giviiyz"
   },
   "outputs": [],
   "source": [
    "#conditions in the get_vocab functions (ngram is in the vocab or not) are checked here. \n",
    "\n",
    "ngrams_train =[np.array([n for n in t if n in vocab]) for t in ngrams_train]\n",
    "ngrams_devn = [np.array([n for n in t if n in vocab]) for t in ngrams_dev]\n",
    "ngrams_test = [np.array([n for n in t if n in vocab]) for t in ngrams_test]\n",
    "\n",
    "ch_ngrams_train =[np.array([n for n in t if n in vocab_ch]) for t in ch_ngrams_train]\n",
    "ch_ngrams_devn = [np.array([n for n in t if n in vocab_ch]) for t in ch_ngrams_dev]\n",
    "ch_ngrams_test = [np.array([n for n in t if n in vocab_ch]) for t in ch_ngrams_test]"
   ]
  },
  {
   "cell_type": "markdown",
   "metadata": {
    "id": "uj3P4Ejhiiyz"
   },
   "source": [
    "## Vectorise documents "
   ]
  },
  {
   "cell_type": "code",
   "execution_count": 14,
   "metadata": {
    "ExecuteTime": {
     "end_time": "2020-02-15T14:17:40.219201Z",
     "start_time": "2020-02-15T14:17:40.215129Z"
    },
    "id": "enAtBSSniiyz"
   },
   "outputs": [],
   "source": [
    "# the result of vectorise functions gives the term freq. matrix as seen below.\n",
    "# and it will be used in next stages to not compute it again\n",
    "\n",
    "def vectorise(X_ngram, vocab): \n",
    "    vocab = dict.fromkeys(vocab)            \n",
    "    matrix_tf = np.zeros((1,len(vocab)))\n",
    "    for doc in X_ngram:\n",
    "        c = Counter(doc)\n",
    "        tf_vectors = np.array([c[key] for key in vocab.keys()])\n",
    "        # below function gives the tf of each term (# term / total # of terms in a document)\n",
    "        tf_vectors = tf_vectors / tf_vectors.sum()\n",
    "        matrix_tf = np.vstack([matrix_tf, tf_vectors])\n",
    "    matrix_tf = matrix_tf[1:]\n",
    "    \n",
    "    return matrix_tf"
   ]
  },
  {
   "cell_type": "markdown",
   "metadata": {
    "id": "iKAVu2Wjiiyz"
   },
   "source": [
    "#### Count vectors"
   ]
  },
  {
   "cell_type": "code",
   "execution_count": 15,
   "metadata": {
    "ExecuteTime": {
     "end_time": "2020-02-15T14:17:41.999574Z",
     "start_time": "2020-02-15T14:17:40.376534Z"
    },
    "id": "8Zt36MqAiiy0"
   },
   "outputs": [],
   "source": [
    "# all LR's count (TF) vector are below. \n",
    "\n",
    "matrix_tf_train = vectorise(ngrams_train, vocab=vocab_id)\n",
    "matrix_tf_dev = vectorise(ngrams_dev, vocab=vocab_id)\n",
    "matrix_tf_test = vectorise(ngrams_test, vocab=vocab_id)\n",
    "\n",
    "matrix_tf_train_ch = vectorise(ch_ngrams_train, vocab=vocab_id_ch)\n",
    "matrix_tf_dev_ch = vectorise(ch_ngrams_dev, vocab=vocab_id_ch)\n",
    "matrix_tf_test_ch = vectorise(ch_ngrams_test, vocab=vocab_id_ch)\n",
    "\n",
    "merged_matrix_tf_train = np.hstack([matrix_tf_train, matrix_tf_train_ch])\n",
    "merged_matrix_tf_dev = np.hstack([matrix_tf_dev, matrix_tf_dev_ch])\n",
    "merged_matrix_tf_test = np.hstack([matrix_tf_test, matrix_tf_test_ch])"
   ]
  },
  {
   "cell_type": "markdown",
   "metadata": {
    "id": "818SvGgGiiy0"
   },
   "source": [
    "#### TF.IDF vectors"
   ]
  },
  {
   "cell_type": "code",
   "execution_count": 16,
   "metadata": {
    "ExecuteTime": {
     "end_time": "2020-02-15T14:17:42.022692Z",
     "start_time": "2020-02-15T14:17:42.012315Z"
    },
    "id": "X9RIElfYiiy0"
   },
   "outputs": [],
   "source": [
    "idf = (np.array([np.log10(len(train_list_x) / df[ngram]) for ngram in df]))\n",
    "idf_ch = (np.array([np.log10(len(train_list_x) / df_ch[ngram]) for ngram in df_ch]))"
   ]
  },
  {
   "cell_type": "code",
   "execution_count": 17,
   "metadata": {
    "ExecuteTime": {
     "end_time": "2020-02-15T14:17:42.802265Z",
     "start_time": "2020-02-15T14:17:42.752448Z"
    },
    "id": "raeVz0DYiiy0"
   },
   "outputs": [],
   "source": [
    "# all LR's count (TFIDF) vector are below. \n",
    "\n",
    "matrix_tf_idf_train = matrix_tf_train * idf\n",
    "matrix_tf_idf_dev = matrix_tf_dev * idf \n",
    "matrix_tf_idf_test = matrix_tf_test * idf\n",
    "\n",
    "matrix_tf_idf_train_ch = matrix_tf_train_ch * idf_ch\n",
    "matrix_tf_idf_dev_ch = matrix_tf_dev_ch * idf_ch\n",
    "matrix_tf_idf_test_ch = matrix_tf_test_ch * idf_ch\n",
    "\n",
    "merged_matrix_tf_idf_train = np.hstack([matrix_tf_idf_train, matrix_tf_idf_train_ch])\n",
    "merged_matrix_tf_idf_dev = np.hstack([matrix_tf_idf_dev, matrix_tf_idf_dev_ch])\n",
    "merged_matrix_tf_idf_test = np.hstack([matrix_tf_idf_test, matrix_tf_idf_test_ch])\n"
   ]
  },
  {
   "cell_type": "markdown",
   "metadata": {
    "id": "FfF6X2_Giiy0"
   },
   "source": [
    "# Binary Logistic Regression"
   ]
  },
  {
   "cell_type": "code",
   "execution_count": 18,
   "metadata": {
    "ExecuteTime": {
     "end_time": "2020-02-15T14:17:44.160661Z",
     "start_time": "2020-02-15T14:17:44.157902Z"
    },
    "id": "eNpPtfMfiiy1"
   },
   "outputs": [],
   "source": [
    "def sigmoid(z):\n",
    "    \n",
    "    sig = 1. / (1. + np.exp(-z))\n",
    "    return sig"
   ]
  },
  {
   "cell_type": "code",
   "execution_count": 19,
   "metadata": {
    "ExecuteTime": {
     "end_time": "2020-02-15T14:17:44.718566Z",
     "start_time": "2020-02-15T14:17:44.715017Z"
    },
    "id": "4p4-iaSRiiy1"
   },
   "outputs": [],
   "source": [
    "def predict_proba(X, weights):\n",
    "    \n",
    "    preds_proba = sigmoid(np.dot(X, weights))\n",
    "    return preds_proba"
   ]
  },
  {
   "cell_type": "code",
   "execution_count": 20,
   "metadata": {
    "ExecuteTime": {
     "end_time": "2020-02-15T14:17:45.002125Z",
     "start_time": "2020-02-15T14:17:44.998668Z"
    },
    "id": "4GruQzXFiiy1"
   },
   "outputs": [],
   "source": [
    "def predict_class(X, weights):\n",
    "    prob = predict_proba(X, weights)\n",
    "    preds_class = np.where(prob<0.5, 0, 1)\n",
    "    \n",
    "    return preds_class"
   ]
  },
  {
   "cell_type": "code",
   "execution_count": 21,
   "metadata": {
    "ExecuteTime": {
     "end_time": "2020-02-15T14:17:45.455533Z",
     "start_time": "2020-02-15T14:17:45.451475Z"
    },
    "id": "gHbIpkJ9iiy2"
   },
   "outputs": [],
   "source": [
    "def binary_loss(X, Y, weights, alpha=0.00001):\n",
    "    y_pred = predict_proba(X, weights)\n",
    "    e  = 0.000001 # to prevent undefined log(0) issue, very small number are added into the log() \n",
    "    loss = -(Y * np.log(y_pred+e) + (1 - Y) * np.log(1 - y_pred+e)) + alpha * np.sum(np.square(weights))\n",
    "\n",
    "    return loss"
   ]
  },
  {
   "cell_type": "code",
   "execution_count": 22,
   "metadata": {
    "ExecuteTime": {
     "end_time": "2020-02-15T14:17:45.968510Z",
     "start_time": "2020-02-15T14:17:45.958185Z"
    },
    "id": "7Hzb7DPYiiy2"
   },
   "outputs": [],
   "source": [
    "def SGD(X_tr, Y_tr, X_dev=[], Y_dev=[], lr=0.8, alpha=0.0000000001, epochs=100, tolerance=0.0000001,\n",
    "                                                                            print_progress=True):\n",
    "\n",
    "    training_loss_history =  np.zeros(0)\n",
    "    validation_loss_history =  np.zeros(0)\n",
    "    w = np.zeros(X_tr.shape[1])\n",
    "    \n",
    "    for i in range(epochs):\n",
    "        rand1 = np.random.permutation(len(X_tr))\n",
    "        X_tr = X_tr[rand1]\n",
    "        Y_tr = Y_tr[rand1]\n",
    "        \n",
    "        train_initial_loss = np.zeros(0)\n",
    "        val_initial_loss = np.array([1,10])\n",
    "\n",
    "        for k in range(len(X_tr)):\n",
    "            loss_train = binary_loss(X_tr[k], Y_tr[k], w, alpha)\n",
    "            train_initial_loss = np.append(train_initial_loss, loss_train)\n",
    "            \n",
    "            gradient = (predict_proba(X_tr[k], w) - Y_tr[k]) * X_tr[k]\n",
    "            regular_dev = 2 * alpha * w\n",
    "            w = w - lr * (gradient + regular_dev)\n",
    "        training_loss_history = np.append(training_loss_history, train_initial_loss.mean())\n",
    "\n",
    "        for j in range(len(X_dev)):\n",
    "            loss_dev = binary_loss(X_dev[j], Y_dev[j], w, alpha)\n",
    "            val_initial_loss = np.append(val_initial_loss, loss_dev)\n",
    "            diff = np.absolute(val_initial_loss[-1] - val_initial_loss[-2])\n",
    "            if diff < tolerance:\n",
    "                break\n",
    "        validation_loss_history = np.append(validation_loss_history, (val_initial_loss[2:]).mean())        \n",
    "        if print_progress:\n",
    "            print(f\"epoch:{i+1}  \" , f\"training_loss: {training_loss_history[-1]}  \", \n",
    "                  f\"validation_loss: {validation_loss_history[-1]} \")\n",
    "        \n",
    "  \n",
    "    return w, training_loss_history, validation_loss_history"
   ]
  },
  {
   "cell_type": "markdown",
   "metadata": {
    "id": "JCBiJn2Uiiy2"
   },
   "source": [
    "## Train and Evaluate Logistic Regression with Count vectors"
   ]
  },
  {
   "cell_type": "code",
   "execution_count": 23,
   "metadata": {
    "id": "yxTFeedPiiy2"
   },
   "outputs": [],
   "source": [
    "# the grid search method is used to decide the hyperparameters combination (for alpha and lr) using hyper_param function. \n",
    "# first, the loss function will be calculated for all hyperparameters combinations\n",
    "# then, the hyperparameters which give the lowest Loss will be selected. \n",
    "# the Loss matrix also can be seen to see the effects of different hyperparameters on the performance. \n",
    "# this process will be applied for all LR models before the evaluation process. \n",
    "# then, SGD function will be computed with hyperparameters obtained from hyper_param function to evaluate scores. \n",
    "\n",
    "num = 3\n",
    "alpha_vec = np.array([0.000000001, 0.00000001, 0.0000001])\n",
    "lr_vec = np.array([3, 4, 5])\n",
    "loss_matrix = np.empty([num, num])\n",
    "\n",
    "def hyper_params(X_tr, Y_tr, X_dev, Y_dev, X_test, epochs, tolerance=0.000001, print_progress=False): \n",
    "    for i in range(num):\n",
    "        for j in range(num):\n",
    "            alpha = alpha_vec[i]\n",
    "            lr = lr_vec[j]\n",
    "            weights, training_loss_history, validation_loss_history = SGD(X_tr, Y_tr, X_dev, Y_dev, lr=lr, alpha=alpha, \n",
    "                                                                            epochs=epochs, tolerance=0.0000001, \n",
    "                                                                           print_progress=print_progress)\n",
    "            \n",
    "            loss_matrix[i, j] = training_loss_history.min()\n",
    "     \n",
    "    best_params = np.argwhere(loss_matrix == np.min(loss_matrix))\n",
    "    alpha = alpha_vec[best_params[0][0]]\n",
    "    lr   = lr_vec[best_params[0][1]]\n",
    "    \n",
    "    return weights, alpha, lr, loss_matrix"
   ]
  },
  {
   "cell_type": "code",
   "execution_count": 24,
   "metadata": {
    "id": "DOtkIXrMCWob"
   },
   "outputs": [],
   "source": [
    "# there are all function below to evaluate all scores.\n",
    "\n",
    "def accuracy_score(y, pred):\n",
    "    accuracy = (y == pred).sum() / len(y)\n",
    "    return accuracy\n",
    "\n",
    "def precision_score(y, pred):\n",
    "    TP = ((pred == 1) & (y == 1)).sum()\n",
    "    FP = ((pred == 1) & (y == 0)).sum()\n",
    "    precision = TP / (TP+FP)\n",
    "    return precision\n",
    "\n",
    "def recall_score(y, pred):\n",
    "    TP = ((pred == 1) & (y == 1)).sum()\n",
    "    FN = ((pred == 0) & (y == 1)).sum()\n",
    "    recall_score = TP / (TP+FN)\n",
    "    return recall_score\n",
    "\n",
    "def f1_score(y, pred):\n",
    "    f1_score = (2*precision_score(y, pred)*recall_score(y,pred))/(precision_score(y, pred)+recall_score(y, pred))\n",
    "    return f1_score"
   ]
  },
  {
   "cell_type": "markdown",
   "metadata": {},
   "source": [
    "### 1) BOW-count "
   ]
  },
  {
   "cell_type": "code",
   "execution_count": 25,
   "metadata": {},
   "outputs": [],
   "source": [
    "num = 3\n",
    "alpha_vec = np.array([0.000000001, 0.00000001, 0.0000001])\n",
    "lr_vec = np.array([2,3,4])\n",
    "loss_matrix = np.empty([num, num])"
   ]
  },
  {
   "cell_type": "code",
   "execution_count": 26,
   "metadata": {
    "id": "hMzPgQXMiiy3"
   },
   "outputs": [],
   "source": [
    "weights, alpha, lr, loss_matrix = hyper_params(matrix_tf_train, train_arr_y, matrix_tf_dev, dev_arr_y,\n",
    "                                               matrix_tf_test, epochs=10, tolerance=0.000001, print_progress=False)"
   ]
  },
  {
   "cell_type": "code",
   "execution_count": 27,
   "metadata": {
    "scrolled": true
   },
   "outputs": [
    {
     "name": "stdout",
     "output_type": "stream",
     "text": [
      "[[0.5890344  0.55357343 0.52404529]\n",
      " [0.58904822 0.55374709 0.52420239]\n",
      " [0.58953551 0.5545528  0.52574764]]\n",
      "1e-09\n",
      "4\n"
     ]
    }
   ],
   "source": [
    "print(loss_matrix)\n",
    "print(alpha)\n",
    "print(lr)"
   ]
  },
  {
   "cell_type": "code",
   "execution_count": 28,
   "metadata": {
    "scrolled": true
   },
   "outputs": [
    {
     "name": "stdout",
     "output_type": "stream",
     "text": [
      "epoch:1   training_loss: 0.6825651583941296   validation_loss: 0.6690430914015778 \n",
      "epoch:2   training_loss: 0.6565674002028953   validation_loss: 0.6500234474508144 \n",
      "epoch:3   training_loss: 0.6336319984092557   validation_loss: 0.6345462020408142 \n",
      "epoch:4   training_loss: 0.6136088599879159   validation_loss: 0.6206589496989827 \n",
      "epoch:5   training_loss: 0.5954967015674749   validation_loss: 0.6092033207580831 \n",
      "epoch:6   training_loss: 0.5791386266982326   validation_loss: 0.5983312493675892 \n",
      "epoch:7   training_loss: 0.5641382688849155   validation_loss: 0.588952308169806 \n",
      "epoch:8   training_loss: 0.5503470665108531   validation_loss: 0.5806701216451919 \n",
      "epoch:9   training_loss: 0.5373767368674764   validation_loss: 0.5735362043225105 \n",
      "epoch:10   training_loss: 0.5256452082551599   validation_loss: 0.5663626101388011 \n",
      "epoch:11   training_loss: 0.5146244294721221   validation_loss: 0.5597913396522728 \n",
      "epoch:12   training_loss: 0.5042662459174299   validation_loss: 0.5539256014651284 \n",
      "epoch:13   training_loss: 0.49446800892918935   validation_loss: 0.5484684505543344 \n",
      "epoch:14   training_loss: 0.4850155829838455   validation_loss: 0.5442086129220569 \n",
      "epoch:15   training_loss: 0.4765842167391845   validation_loss: 0.5387851229368417 \n",
      "epoch:16   training_loss: 0.468410025862001   validation_loss: 0.5344311779873796 \n",
      "epoch:17   training_loss: 0.4605585150102078   validation_loss: 0.5303663348924924 \n",
      "epoch:18   training_loss: 0.45321505288410996   validation_loss: 0.5268215178072888 \n",
      "epoch:19   training_loss: 0.4461216677222775   validation_loss: 0.5231218836297923 \n",
      "epoch:20   training_loss: 0.4393924368529973   validation_loss: 0.5199063661760285 \n",
      "epoch:21   training_loss: 0.4329811438488661   validation_loss: 0.5166170971269599 \n",
      "epoch:22   training_loss: 0.42684146763729375   validation_loss: 0.5135939549038815 \n",
      "epoch:23   training_loss: 0.4209594915759861   validation_loss: 0.5108112696325758 \n",
      "epoch:24   training_loss: 0.41527981152938714   validation_loss: 0.5081839773817916 \n",
      "epoch:25   training_loss: 0.4099003996715867   validation_loss: 0.505670915812349 \n",
      "epoch:26   training_loss: 0.4046499391160019   validation_loss: 0.503459031527998 \n",
      "epoch:27   training_loss: 0.3995944066098016   validation_loss: 0.5009228214221112 \n",
      "epoch:28   training_loss: 0.39481859603832603   validation_loss: 0.4989036745579494 \n",
      "epoch:29   training_loss: 0.39013121321674543   validation_loss: 0.49672751188628467 \n",
      "epoch:30   training_loss: 0.38563034612452857   validation_loss: 0.4949277377698693 \n",
      "epoch:31   training_loss: 0.3812514894751126   validation_loss: 0.49309441519535185 \n",
      "epoch:32   training_loss: 0.37703954612880125   validation_loss: 0.4910872364193004 \n",
      "epoch:33   training_loss: 0.37280567550610116   validation_loss: 0.489788439592216 \n",
      "epoch:34   training_loss: 0.3689934035709525   validation_loss: 0.4877100961012838 \n",
      "epoch:35   training_loss: 0.36526131163672865   validation_loss: 0.48622643632524837 \n",
      "epoch:36   training_loss: 0.3615333866609815   validation_loss: 0.4846699296963613 \n",
      "epoch:37   training_loss: 0.35793679339399986   validation_loss: 0.48335751148842326 \n",
      "epoch:38   training_loss: 0.35439886963257694   validation_loss: 0.4823611921311506 \n",
      "epoch:39   training_loss: 0.3510726783700869   validation_loss: 0.48109235371263526 \n",
      "epoch:40   training_loss: 0.3478264194325216   validation_loss: 0.47947302539860714 \n",
      "epoch:41   training_loss: 0.3446010999706348   validation_loss: 0.4782611766346243 \n",
      "epoch:42   training_loss: 0.3414729011549742   validation_loss: 0.4767790683117219 \n",
      "epoch:43   training_loss: 0.33843796976105256   validation_loss: 0.4759461341819086 \n",
      "epoch:44   training_loss: 0.33554955152791927   validation_loss: 0.47476877647229165 \n",
      "epoch:45   training_loss: 0.3326513489825046   validation_loss: 0.47374081914165744 \n",
      "epoch:46   training_loss: 0.3296136060924141   validation_loss: 0.47210109454523375 \n",
      "epoch:47   training_loss: 0.32716779997784   validation_loss: 0.4711175829553913 \n",
      "epoch:48   training_loss: 0.3245286386691892   validation_loss: 0.47044432579234896 \n",
      "epoch:49   training_loss: 0.3219136916940502   validation_loss: 0.46958848373315276 \n",
      "epoch:50   training_loss: 0.3193698643802409   validation_loss: 0.4688373336804368 \n",
      "epoch:51   training_loss: 0.316884462175878   validation_loss: 0.4677368865403727 \n",
      "epoch:52   training_loss: 0.31451506079696434   validation_loss: 0.46709171968338176 \n",
      "epoch:53   training_loss: 0.31213078954585693   validation_loss: 0.4665102098714096 \n",
      "epoch:54   training_loss: 0.30988374999791307   validation_loss: 0.4656451399107267 \n",
      "epoch:55   training_loss: 0.307634899757181   validation_loss: 0.4649038482938808 \n",
      "epoch:56   training_loss: 0.30538746954374735   validation_loss: 0.46437115132034257 \n",
      "epoch:57   training_loss: 0.3032637693158781   validation_loss: 0.4632772296504592 \n",
      "epoch:58   training_loss: 0.3011733809738094   validation_loss: 0.4628499433869297 \n",
      "epoch:59   training_loss: 0.2991308980567043   validation_loss: 0.4622217869594435 \n",
      "epoch:60   training_loss: 0.2971233773739968   validation_loss: 0.4613961276562717 \n",
      "epoch:61   training_loss: 0.29515129510976235   validation_loss: 0.46076954739824133 \n",
      "epoch:62   training_loss: 0.29322188641415425   validation_loss: 0.4603217648827552 \n",
      "epoch:63   training_loss: 0.2913161507995368   validation_loss: 0.4597995494632983 \n",
      "epoch:64   training_loss: 0.2893598273435545   validation_loss: 0.45984493804814247 \n",
      "epoch:65   training_loss: 0.2876832600833622   validation_loss: 0.45861748254971146 \n",
      "epoch:66   training_loss: 0.28587854669200224   validation_loss: 0.45825780522227133 \n",
      "epoch:67   training_loss: 0.28414339574660735   validation_loss: 0.45786117769436996 \n",
      "epoch:68   training_loss: 0.2824666585357286   validation_loss: 0.4573480775275705 \n",
      "epoch:69   training_loss: 0.28076742812828975   validation_loss: 0.45692561827609096 \n",
      "epoch:70   training_loss: 0.27916413382999256   validation_loss: 0.45617141388698684 \n",
      "epoch:71   training_loss: 0.2775423647150538   validation_loss: 0.45577073828080006 \n",
      "epoch:72   training_loss: 0.2759531915381617   validation_loss: 0.45540818763772434 \n",
      "epoch:73   training_loss: 0.274396892619117   validation_loss: 0.45516411824872693 \n",
      "epoch:74   training_loss: 0.2728899492388055   validation_loss: 0.4543372020956432 \n",
      "epoch:75   training_loss: 0.27140904704919305   validation_loss: 0.45396005351779584 \n",
      "epoch:76   training_loss: 0.26990485581754153   validation_loss: 0.4539124274146705 \n",
      "epoch:77   training_loss: 0.2684680438649118   validation_loss: 0.45318308907320043 \n",
      "epoch:78   training_loss: 0.2670835180107879   validation_loss: 0.4528787749926739 \n",
      "epoch:79   training_loss: 0.2656083525303933   validation_loss: 0.4521396945086561 \n",
      "epoch:80   training_loss: 0.26434392755047686   validation_loss: 0.4520187839358186 \n",
      "epoch:81   training_loss: 0.26298460233232146   validation_loss: 0.45159350063481035 \n",
      "epoch:82   training_loss: 0.26166614176161573   validation_loss: 0.4513600956484653 \n",
      "epoch:83   training_loss: 0.26030180371669714   validation_loss: 0.4516324573408356 \n",
      "epoch:84   training_loss: 0.25907669942694045   validation_loss: 0.4514746670465972 \n",
      "epoch:85   training_loss: 0.2578498397967492   validation_loss: 0.4506674927814059 \n",
      "epoch:86   training_loss: 0.25661698646703424   validation_loss: 0.45055366739790365 \n",
      "epoch:87   training_loss: 0.25539565872210807   validation_loss: 0.4504147601406619 \n",
      "epoch:88   training_loss: 0.2542199339489717   validation_loss: 0.4502063574178792 \n",
      "epoch:89   training_loss: 0.25305763657666414   validation_loss: 0.4498748889880054 \n",
      "epoch:90   training_loss: 0.2518965163883103   validation_loss: 0.44929011528322005 \n",
      "epoch:91   training_loss: 0.25077158273262173   validation_loss: 0.4490430799764657 \n",
      "epoch:92   training_loss: 0.24962780258032322   validation_loss: 0.4491571854554652 \n",
      "epoch:93   training_loss: 0.24855604325854297   validation_loss: 0.4487384442508947 \n",
      "epoch:94   training_loss: 0.24747881928878046   validation_loss: 0.44838167526552164 \n",
      "epoch:95   training_loss: 0.24641755265374457   validation_loss: 0.44820514386922156 \n",
      "epoch:96   training_loss: 0.24535982110786556   validation_loss: 0.4478449842525866 \n",
      "epoch:97   training_loss: 0.2443334051271179   validation_loss: 0.44759715124264504 \n"
     ]
    },
    {
     "name": "stdout",
     "output_type": "stream",
     "text": [
      "epoch:98   training_loss: 0.24332465510062604   validation_loss: 0.4478458615068051 \n",
      "epoch:99   training_loss: 0.24231600841129397   validation_loss: 0.4474679890329098 \n",
      "epoch:100   training_loss: 0.24133444614050226   validation_loss: 0.447403775867414 \n"
     ]
    }
   ],
   "source": [
    "weights, training_loss_history, validation_loss_history = SGD(matrix_tf_train, train_arr_y, matrix_tf_dev, dev_arr_y,\n",
    "                                                              lr=lr, alpha=0.0000001, epochs=100)"
   ]
  },
  {
   "cell_type": "markdown",
   "metadata": {
    "id": "fALgJKaAiiy3"
   },
   "source": [
    "Now plot the training and validation history per epoch for the best hyperparameter combination. Does your model underfit, overfit or is it about right? Explain why."
   ]
  },
  {
   "cell_type": "code",
   "execution_count": 29,
   "metadata": {
    "ExecuteTime": {
     "end_time": "2020-02-15T14:17:51.598911Z",
     "start_time": "2020-02-15T14:17:51.482307Z"
    },
    "colab": {
     "base_uri": "https://localhost:8080/",
     "height": 265
    },
    "id": "FbfbEXU2iiy3",
    "outputId": "97572ed9-3e67-4bbd-fad7-3455cec35f6b"
   },
   "outputs": [
    {
     "data": {
      "image/png": "[encoded data removed]",
      "text/plain": [
       "<Figure size 432x288 with 1 Axes>"
      ]
     },
     "metadata": {
      "needs_background": "light"
     },
     "output_type": "display_data"
    }
   ],
   "source": [
    "plt.plot(training_loss_history, label = \"training_loss_history\")\n",
    "plt.plot(validation_loss_history, label = \"validation_loss_history\")\n",
    "plt.legend()\n",
    "plt.show()"
   ]
  },
  {
   "cell_type": "markdown",
   "metadata": {},
   "source": [
    "Explanation:\n",
    "\n",
    "The model is OK with the selected the best hyperparameters. \n",
    "There is no any overfitting and/or underfitting problems. \n",
    "Validation Loss is higher than training loss, as expected. \n",
    "Validation and Training Loss are decreasing by every epoch. \n",
    "There is reasonable relation between the validation loss and training loss. \n",
    "The model's learning process is not so long or short, so it is reasonable and acceptable considering whole data. "
   ]
  },
  {
   "cell_type": "code",
   "execution_count": 30,
   "metadata": {
    "ExecuteTime": {
     "end_time": "2020-02-15T14:17:51.607940Z",
     "start_time": "2020-02-15T14:17:51.600272Z"
    },
    "colab": {
     "base_uri": "https://localhost:8080/"
    },
    "id": "S_BbCtzoCPry",
    "outputId": "f9e853f1-5862-479a-ec40-96a2e93fcdc5"
   },
   "outputs": [
    {
     "name": "stdout",
     "output_type": "stream",
     "text": [
      "Accuracy: 0.8375\n",
      "Precision: 0.813953488372093\n",
      "Recall: 0.875\n",
      "F1-Score: 0.8433734939759036\n"
     ]
    }
   ],
   "source": [
    "preds_te_count = predict_class(matrix_tf_test, weights)\n",
    "\n",
    "BOW_count_accuracy = accuracy_score(test_arr_y, preds_te_count)\n",
    "BOW_count_precision = precision_score(test_arr_y, preds_te_count)\n",
    "BOW_count_recall = recall_score(test_arr_y, preds_te_count)\n",
    "BOW_count_f1_score = f1_score(test_arr_y, preds_te_count)\n",
    "\n",
    "print('Accuracy:', BOW_count_accuracy)\n",
    "print('Precision:', BOW_count_precision)\n",
    "print('Recall:', BOW_count_recall)\n",
    "print('F1-Score:', BOW_count_f1_score)"
   ]
  },
  {
   "cell_type": "code",
   "execution_count": 31,
   "metadata": {
    "ExecuteTime": {
     "end_time": "2020-02-15T14:17:51.613935Z",
     "start_time": "2020-02-15T14:17:51.610660Z"
    },
    "colab": {
     "base_uri": "https://localhost:8080/"
    },
    "id": "iF9U3ffdCPrz",
    "outputId": "110fa5d6-d8bf-4d0c-e37a-9fc5fe80735a"
   },
   "outputs": [
    {
     "name": "stdout",
     "output_type": "stream",
     "text": [
      "bad\n",
      "worst\n",
      "boring\n",
      "supposed\n",
      "script\n",
      "reason\n",
      "plot\n",
      "stupid\n",
      "ridiculous\n",
      "attempt\n"
     ]
    }
   ],
   "source": [
    "top_neg = weights.argsort()[:10]\n",
    "for i in top_neg:\n",
    "    print(id_vocab[i])"
   ]
  },
  {
   "cell_type": "code",
   "execution_count": 32,
   "metadata": {
    "ExecuteTime": {
     "end_time": "2020-02-15T14:17:51.624122Z",
     "start_time": "2020-02-15T14:17:51.615674Z"
    },
    "colab": {
     "base_uri": "https://localhost:8080/"
    },
    "id": "o4YKFdUnCPrz",
    "outputId": "c5a2291d-b6b4-4be8-a1c6-d36681bbe1a7"
   },
   "outputs": [
    {
     "name": "stdout",
     "output_type": "stream",
     "text": [
      "great\n",
      "fun\n",
      "hilarious\n",
      "world\n",
      "true\n",
      "simple\n",
      "perfectly\n",
      "perfect\n",
      "jackie\n",
      "life\n"
     ]
    }
   ],
   "source": [
    "top_pos = weights.argsort()[::-1][:10]\n",
    "for i in top_pos:\n",
    "    print(id_vocab[i])"
   ]
  },
  {
   "cell_type": "markdown",
   "metadata": {},
   "source": [
    "### If we were to apply the classifier we've learned into a different domain such laptop reviews or restaurant reviews, do you think these features would generalise well? Can you propose what features the classifier could pick up as important in the new domain?"
   ]
  },
  {
   "cell_type": "markdown",
   "metadata": {},
   "source": [
    "Comment: Considering the features shown above, it can be said that features are reasonable. Top-10 positive and negative features are meaningful and important considering the classification model. \n",
    "\n",
    "Answer: It is possible to some extent to apply these features into different domains (laptop reviews or restaurant reviews).\n",
    "The issue is to choose the features according to new domain's concept. If we know that new domains are laptop reviews or restaurant reviews, we can propose some features.\n",
    "For example, considering the top 10 positive words, some features like \"true, perfect, perfectly, great, simple, life\" can be important to use in the new domain whereas some features like \"jackie, hilarious, fun\" can not be used in new domain. On the other hand, considering the top 10 negative words, some features like \"bad, worst, boring, reason\" can be significant to use in the new domain whereas some features like \"stupid, plot, attempt\" can not be used in new domain.\n",
    "\n",
    "If we do not know the new domain's concept, we can suggest more general features like: \"true, perfect, perfectly, great, bad, worst\"."
   ]
  },
  {
   "cell_type": "markdown",
   "metadata": {
    "id": "Lt3IxXFMiiy6"
   },
   "source": [
    "### Discuss how did you choose model hyperparameters (e.g. learning rate and regularisation strength)? What is the relation between training epochs and learning rate? How the regularisation strength affects performance?"
   ]
  },
  {
   "cell_type": "markdown",
   "metadata": {
    "id": "ZpY3Ff_6iiy6"
   },
   "source": [
    "Answer: Learning rate and regularisation strength are considered as hyperparameters in this implementation. Grid search which is the simplest algorithm for hyperparameter tuning is applied to choose the best hyperparameters. Every combination of values of this grid is tried to find the best combination. Normally, to check every combination of the grid requires a lot of time, and it is possible to try combinations randomly as stated in the assignment. However, considering this implementation, all combinations are computed and best of them are selected since there is no any time issue in this implementation. The grid values are estimated manually. Total number of epochs is the same (100) in all LR models. So, to train the model efficiently, the learning rate is set as a big range of values (comparing the traditional lr) and this works well as seen in the related graphs. This is because the model is expected to learn well enough within the 100 epochs.\n",
    "\n",
    "The relation between learning rate and epochs: Firstly, the learning rate controls how rapidly the model is adjusted/adapted to the problem. If the learning rates are small, it requires more epochs to make changes after each iteration/update. Also, it means the model requires more time to be trained, and it can be expensive. In addition, if the learning rates are big values, this causes quick changes and requires less training epochs. It is possible to make enough changes after each iteration/update. However, this can cause the model to converge too rapidly to a not optimal solution.\n",
    "\n",
    "The main purpose of the regularisation strength is to prevent overfitting, since it is a big concern if the model perfectly matches with the training data. Also, it will produce very high weights. Basically, to penalize the Loss Function, regularisation term (penalty) is added to the Loss (to increase the loss function) considering the large weights. So, the model is able to generalize to make good predictions from the test (unseen) data. So, it can improve the generalization performance on test (unseen) data. For this purpose, L1 and L2 methods can be used."
   ]
  },
  {
   "cell_type": "markdown",
   "metadata": {},
   "source": [
    "### 2) BOW-tfidf "
   ]
  },
  {
   "cell_type": "code",
   "execution_count": 33,
   "metadata": {},
   "outputs": [],
   "source": [
    "num = 3\n",
    "alpha_vec = np.array([0.000000001, 0.00000001, 0.0000001])\n",
    "lr_vec = np.array([2,3,4])\n",
    "loss_matrix = np.empty([num, num])"
   ]
  },
  {
   "cell_type": "code",
   "execution_count": 34,
   "metadata": {
    "id": "g3GwoELZANwn"
   },
   "outputs": [],
   "source": [
    "weights, alpha, lr, loss_matrix = hyper_params(matrix_tf_idf_train, train_arr_y, matrix_tf_idf_dev, dev_arr_y,\n",
    "                                               matrix_tf_idf_test, epochs=10, tolerance=0.000001,\n",
    "                                               print_progress=False)"
   ]
  },
  {
   "cell_type": "code",
   "execution_count": 35,
   "metadata": {
    "colab": {
     "base_uri": "https://localhost:8080/"
    },
    "id": "QtBYk50JCBbm",
    "outputId": "754a5903-d771-4da5-8d8c-cc70d1107914"
   },
   "outputs": [
    {
     "name": "stdout",
     "output_type": "stream",
     "text": [
      "[[0.56633963 0.52084675 0.48314   ]\n",
      " [0.56639893 0.52094189 0.48330081]\n",
      " [0.5669682  0.52208806 0.48509698]]\n",
      "1e-09\n",
      "4\n"
     ]
    }
   ],
   "source": [
    "print(loss_matrix)\n",
    "print(alpha)\n",
    "print(lr)"
   ]
  },
  {
   "cell_type": "code",
   "execution_count": 36,
   "metadata": {
    "colab": {
     "base_uri": "https://localhost:8080/"
    },
    "id": "mXTkO4mWCjSA",
    "outputId": "f45c8257-8916-41cd-edc3-97ba4d48f0d4"
   },
   "outputs": [
    {
     "name": "stdout",
     "output_type": "stream",
     "text": [
      "epoch:1   training_loss: 0.6838216686349065   validation_loss: 0.6753201805722275 \n",
      "epoch:2   training_loss: 0.6520996258729904   validation_loss: 0.6593856888957975 \n",
      "epoch:3   training_loss: 0.623543298730114   validation_loss: 0.6450402657218325 \n",
      "epoch:4   training_loss: 0.5977276216961984   validation_loss: 0.6321235971009884 \n",
      "epoch:5   training_loss: 0.574281411213871   validation_loss: 0.6204008184085247 \n",
      "epoch:6   training_loss: 0.5528903184945094   validation_loss: 0.6097095965154936 \n",
      "epoch:7   training_loss: 0.5332811566502923   validation_loss: 0.5999305100685495 \n",
      "epoch:8   training_loss: 0.5152450921544173   validation_loss: 0.5909784123613557 \n",
      "epoch:9   training_loss: 0.4985592076523311   validation_loss: 0.5828260654678995 \n",
      "epoch:10   training_loss: 0.48311303507915454   validation_loss: 0.5752751493899383 \n",
      "epoch:11   training_loss: 0.4687894757685916   validation_loss: 0.568131027221782 \n",
      "epoch:12   training_loss: 0.455389306053009   validation_loss: 0.561523611837687 \n",
      "epoch:13   training_loss: 0.4428563074207453   validation_loss: 0.5553814152564488 \n",
      "epoch:14   training_loss: 0.43109514654382547   validation_loss: 0.5495519031811574 \n",
      "epoch:15   training_loss: 0.4200372909120357   validation_loss: 0.5441088018255728 \n",
      "epoch:16   training_loss: 0.40963108003071363   validation_loss: 0.5390830083762633 \n",
      "epoch:17   training_loss: 0.3997851046971092   validation_loss: 0.5343077989921842 \n",
      "epoch:18   training_loss: 0.3904688194083964   validation_loss: 0.5298182208947146 \n",
      "epoch:19   training_loss: 0.38162973900399755   validation_loss: 0.5255454854165155 \n",
      "epoch:20   training_loss: 0.3732185392394928   validation_loss: 0.5214143692825789 \n",
      "epoch:21   training_loss: 0.3652403821144082   validation_loss: 0.5176631423111174 \n",
      "epoch:22   training_loss: 0.3576237943657557   validation_loss: 0.5140240148030027 \n",
      "epoch:23   training_loss: 0.35035287643304747   validation_loss: 0.5105843936263202 \n",
      "epoch:24   training_loss: 0.3434003183258253   validation_loss: 0.5072749154327638 \n",
      "epoch:25   training_loss: 0.33674144270253026   validation_loss: 0.504031638776885 \n",
      "epoch:26   training_loss: 0.33036933588270917   validation_loss: 0.5010857417534672 \n",
      "epoch:27   training_loss: 0.3242568022152905   validation_loss: 0.4982212783042314 \n",
      "epoch:28   training_loss: 0.3183823617515851   validation_loss: 0.49544858793604957 \n",
      "epoch:29   training_loss: 0.3127332515915904   validation_loss: 0.4927845259475939 \n",
      "epoch:30   training_loss: 0.3072954682653356   validation_loss: 0.4901955763200467 \n",
      "epoch:31   training_loss: 0.3020596216214346   validation_loss: 0.4878194317594993 \n",
      "epoch:32   training_loss: 0.2970113717931074   validation_loss: 0.48551310552305954 \n",
      "epoch:33   training_loss: 0.2921435655172121   validation_loss: 0.48318155605715696 \n",
      "epoch:34   training_loss: 0.2874420414218712   validation_loss: 0.48105654406781384 \n",
      "epoch:35   training_loss: 0.2828992634303582   validation_loss: 0.47894716466275 \n",
      "epoch:36   training_loss: 0.27850547211287646   validation_loss: 0.4769000208451233 \n",
      "epoch:37   training_loss: 0.27424866095690376   validation_loss: 0.47499314280683763 \n",
      "epoch:38   training_loss: 0.27012977054492315   validation_loss: 0.47303110723972436 \n",
      "epoch:39   training_loss: 0.2661420937503225   validation_loss: 0.47119297143971933 \n",
      "epoch:40   training_loss: 0.2622734678983304   validation_loss: 0.46946005241716476 \n",
      "epoch:41   training_loss: 0.25852200845687945   validation_loss: 0.4677624853167014 \n",
      "epoch:42   training_loss: 0.25487797415516   validation_loss: 0.466151491360429 \n",
      "epoch:43   training_loss: 0.25134079766016054   validation_loss: 0.4644994107109139 \n",
      "epoch:44   training_loss: 0.24790436188105697   validation_loss: 0.4629281462408736 \n",
      "epoch:45   training_loss: 0.24456025889185187   validation_loss: 0.46136024833421885 \n",
      "epoch:46   training_loss: 0.2413148944838012   validation_loss: 0.459935093217548 \n",
      "epoch:47   training_loss: 0.23815372040025698   validation_loss: 0.45853154464242124 \n",
      "epoch:48   training_loss: 0.23507496952774465   validation_loss: 0.4572012254006213 \n",
      "epoch:49   training_loss: 0.23207801593767427   validation_loss: 0.45587488261749315 \n",
      "epoch:50   training_loss: 0.22915780538258526   validation_loss: 0.4545421344786207 \n",
      "epoch:51   training_loss: 0.2263125635327424   validation_loss: 0.4533308894574378 \n",
      "epoch:52   training_loss: 0.22354023020105063   validation_loss: 0.4520787536171474 \n",
      "epoch:53   training_loss: 0.22083018340307137   validation_loss: 0.45082730335125837 \n",
      "epoch:54   training_loss: 0.21819225883007398   validation_loss: 0.4496422884041706 \n",
      "epoch:55   training_loss: 0.21561850001282026   validation_loss: 0.44853079960731035 \n",
      "epoch:56   training_loss: 0.2131020668300875   validation_loss: 0.44747075042837037 \n",
      "epoch:57   training_loss: 0.21063980889778405   validation_loss: 0.44649680136629805 \n",
      "epoch:58   training_loss: 0.2082459482618625   validation_loss: 0.4454352942301327 \n",
      "epoch:59   training_loss: 0.20589747711179476   validation_loss: 0.4444633373631654 \n",
      "epoch:60   training_loss: 0.20359519883451274   validation_loss: 0.44334839244813506 \n",
      "epoch:61   training_loss: 0.2013657261893787   validation_loss: 0.44242587769586256 \n",
      "epoch:62   training_loss: 0.19917283602485117   validation_loss: 0.44146286448048044 \n",
      "epoch:63   training_loss: 0.1970279446104723   validation_loss: 0.44057198236233236 \n",
      "epoch:64   training_loss: 0.1949289435543477   validation_loss: 0.43967745384284584 \n",
      "epoch:65   training_loss: 0.19287358202276986   validation_loss: 0.4387934670491918 \n",
      "epoch:66   training_loss: 0.19085991234789376   validation_loss: 0.43789657908821866 \n",
      "epoch:67   training_loss: 0.1888916251064006   validation_loss: 0.43708288148160457 \n",
      "epoch:68   training_loss: 0.1869606743575021   validation_loss: 0.4362472219065168 \n",
      "epoch:69   training_loss: 0.18506978725559262   validation_loss: 0.43544349822748546 \n",
      "epoch:70   training_loss: 0.18321581423402786   validation_loss: 0.4347218594072993 \n",
      "epoch:71   training_loss: 0.1813971490087118   validation_loss: 0.43392068678478907 \n",
      "epoch:72   training_loss: 0.17961654477006128   validation_loss: 0.4332375478039305 \n",
      "epoch:73   training_loss: 0.17787189061394312   validation_loss: 0.43248045416138436 \n",
      "epoch:74   training_loss: 0.1761590432966976   validation_loss: 0.4317677046058714 \n",
      "epoch:75   training_loss: 0.17447792518994734   validation_loss: 0.4310514813660975 \n",
      "epoch:76   training_loss: 0.17282920291454773   validation_loss: 0.43039349380095815 \n",
      "epoch:77   training_loss: 0.1712116310746053   validation_loss: 0.4297404052055984 \n",
      "epoch:78   training_loss: 0.16962188955402877   validation_loss: 0.429111688084907 \n",
      "epoch:79   training_loss: 0.1680626590518694   validation_loss: 0.42849785974712845 \n",
      "epoch:80   training_loss: 0.16653132474908797   validation_loss: 0.42788352365504556 \n",
      "epoch:81   training_loss: 0.16502774408841897   validation_loss: 0.4272648763191842 \n",
      "epoch:82   training_loss: 0.16354837737539957   validation_loss: 0.42668921527029186 \n",
      "epoch:83   training_loss: 0.162097858970152   validation_loss: 0.42607065717810416 \n",
      "epoch:84   training_loss: 0.16067137566222192   validation_loss: 0.4254753843563026 \n",
      "epoch:85   training_loss: 0.1592668886913381   validation_loss: 0.4248597655633206 \n",
      "epoch:86   training_loss: 0.15789156669685028   validation_loss: 0.4242950861325073 \n",
      "epoch:87   training_loss: 0.15653740174387365   validation_loss: 0.423786580628784 \n",
      "epoch:88   training_loss: 0.1552061614077921   validation_loss: 0.42326126477617493 \n",
      "epoch:89   training_loss: 0.1538957537538418   validation_loss: 0.42273237008653103 \n",
      "epoch:90   training_loss: 0.15260780080248254   validation_loss: 0.42220670880563643 \n",
      "epoch:91   training_loss: 0.15134152743223703   validation_loss: 0.42173278656507607 \n",
      "epoch:92   training_loss: 0.15009465420996576   validation_loss: 0.42126821798917524 \n",
      "epoch:93   training_loss: 0.14886851127005554   validation_loss: 0.42080398398939245 \n",
      "epoch:94   training_loss: 0.1476617388995366   validation_loss: 0.4203118374674906 \n",
      "epoch:95   training_loss: 0.14647409154754598   validation_loss: 0.4198692998547547 \n",
      "epoch:96   training_loss: 0.14530469206497765   validation_loss: 0.41938529699511534 \n",
      "epoch:97   training_loss: 0.1441542528370373   validation_loss: 0.4189471165864127 \n",
      "epoch:98   training_loss: 0.14302040395730664   validation_loss: 0.41850139209308723 \n"
     ]
    },
    {
     "name": "stdout",
     "output_type": "stream",
     "text": [
      "epoch:99   training_loss: 0.14190574745407397   validation_loss: 0.4180815100491397 \n",
      "epoch:100   training_loss: 0.140806905579947   validation_loss: 0.41767704743381956 \n"
     ]
    }
   ],
   "source": [
    "weights, training_loss_history, validation_loss_history = SGD(matrix_tf_idf_train, train_arr_y, matrix_tf_idf_dev,\n",
    "                                                              dev_arr_y, lr=lr, alpha=alpha, epochs=100)"
   ]
  },
  {
   "cell_type": "code",
   "execution_count": 37,
   "metadata": {
    "colab": {
     "base_uri": "https://localhost:8080/",
     "height": 268
    },
    "id": "7dTRWtO9CFP4",
    "outputId": "940fb368-b8b3-44f4-cd34-a15002304ee3",
    "scrolled": true
   },
   "outputs": [
    {
     "data": {
      "image/png": "[encoded data removed]",
      "text/plain": [
       "<Figure size 432x288 with 1 Axes>"
      ]
     },
     "metadata": {
      "needs_background": "light"
     },
     "output_type": "display_data"
    }
   ],
   "source": [
    "plt.plot(training_loss_history, label = \"training_loss_history\")\n",
    "plt.plot(validation_loss_history, label = \"validation_loss_history\")\n",
    "plt.legend()\n",
    "plt.show()"
   ]
  },
  {
   "cell_type": "markdown",
   "metadata": {},
   "source": [
    "Explanation:\n",
    "\n",
    "The model is OK with the selected the best hyperparameters. \n",
    "There is no any overfitting and/or underfitting problems. \n",
    "Validation Loss is higher than training loss, as expected. \n",
    "Validation and Training Loss are decreasing by every epoch. \n",
    "There is reasonable relation between the validation loss and training loss. \n",
    "The model's learning process is not so long or short, so it is reasonable and acceptable considering whole data. "
   ]
  },
  {
   "cell_type": "code",
   "execution_count": 38,
   "metadata": {
    "ExecuteTime": {
     "end_time": "2020-02-15T14:17:51.607940Z",
     "start_time": "2020-02-15T14:17:51.600272Z"
    },
    "colab": {
     "base_uri": "https://localhost:8080/"
    },
    "id": "LTXH37LiCFP4",
    "outputId": "bae8cbb9-b465-42d1-ecab-35aaf1957548"
   },
   "outputs": [
    {
     "name": "stdout",
     "output_type": "stream",
     "text": [
      "Accuracy: 0.845\n",
      "Precision: 0.8415841584158416\n",
      "Recall: 0.85\n",
      "F1-Score: 0.845771144278607\n"
     ]
    }
   ],
   "source": [
    "preds_te_tfidf = predict_class(matrix_tf_idf_test, weights)\n",
    "\n",
    "BOW_tfidf_accuracy = accuracy_score(test_arr_y, preds_te_tfidf)\n",
    "BOW_tfidf_precision = precision_score(test_arr_y, preds_te_tfidf)\n",
    "BOW_tfidf_recall = recall_score(test_arr_y, preds_te_tfidf)\n",
    "BOW_tfidf_f1_score = f1_score(test_arr_y, preds_te_tfidf)\n",
    "\n",
    "print('Accuracy:', BOW_tfidf_accuracy)\n",
    "print('Precision:', BOW_tfidf_precision)\n",
    "print('Recall:', BOW_tfidf_recall)\n",
    "print('F1-Score:', BOW_tfidf_f1_score)"
   ]
  },
  {
   "cell_type": "code",
   "execution_count": 39,
   "metadata": {
    "ExecuteTime": {
     "end_time": "2020-02-15T14:17:51.613935Z",
     "start_time": "2020-02-15T14:17:51.610660Z"
    },
    "colab": {
     "base_uri": "https://localhost:8080/"
    },
    "id": "kg-dwzKkCFP5",
    "outputId": "65c54001-ca41-4e5c-f19f-8030314c868f"
   },
   "outputs": [
    {
     "name": "stdout",
     "output_type": "stream",
     "text": [
      "bad\n",
      "worst\n",
      "boring\n",
      "supposed\n",
      "stupid\n",
      "ridiculous\n",
      "script\n",
      "fails\n",
      "waste\n",
      "wasted\n"
     ]
    }
   ],
   "source": [
    "top_neg = weights.argsort()[:10]\n",
    "for i in top_neg:\n",
    "    print(id_vocab[i])"
   ]
  },
  {
   "cell_type": "code",
   "execution_count": 40,
   "metadata": {
    "ExecuteTime": {
     "end_time": "2020-02-15T14:17:51.624122Z",
     "start_time": "2020-02-15T14:17:51.615674Z"
    },
    "colab": {
     "base_uri": "https://localhost:8080/"
    },
    "id": "ubgTYZ2xCFP5",
    "outputId": "089b7009-cf5c-431b-b096-f781af354b7c",
    "scrolled": true
   },
   "outputs": [
    {
     "name": "stdout",
     "output_type": "stream",
     "text": [
      "great\n",
      "hilarious\n",
      "terrific\n",
      "truman\n",
      "fun\n",
      "perfectly\n",
      "excellent\n",
      "perfect\n",
      "life\n",
      "simple\n"
     ]
    }
   ],
   "source": [
    "top_pos = weights.argsort()[::-1][:10]\n",
    "for i in top_pos:\n",
    "    print(id_vocab[i])"
   ]
  },
  {
   "cell_type": "markdown",
   "metadata": {},
   "source": [
    "### 3) BOCN-count "
   ]
  },
  {
   "cell_type": "code",
   "execution_count": 41,
   "metadata": {},
   "outputs": [],
   "source": [
    "num = 3\n",
    "alpha_vec = np.array([0.000000001, 0.00000001, 0.0000001])\n",
    "lr_vec = np.array([2,3,4])\n",
    "loss_matrix = np.empty([num, num])"
   ]
  },
  {
   "cell_type": "code",
   "execution_count": 42,
   "metadata": {
    "id": "zSibL4IMD-co"
   },
   "outputs": [],
   "source": [
    "weights, alpha, lr, loss_matrix = hyper_params(matrix_tf_train_ch, train_arr_y, matrix_tf_dev_ch, dev_arr_y,\n",
    "                                            matrix_tf_test_ch, epochs=10, tolerance=0.000001,\n",
    "                                               print_progress=False)"
   ]
  },
  {
   "cell_type": "code",
   "execution_count": 43,
   "metadata": {
    "colab": {
     "base_uri": "https://localhost:8080/"
    },
    "id": "hMD2PHbTD-co",
    "outputId": "f0861827-63fc-4573-e99a-7a15a8dad3d7"
   },
   "outputs": [
    {
     "name": "stdout",
     "output_type": "stream",
     "text": [
      "[[0.66266098 0.64932423 0.63698941]\n",
      " [0.66268377 0.64935348 0.63698661]\n",
      " [0.66282167 0.64966736 0.63754794]]\n",
      "1e-08\n",
      "4\n"
     ]
    }
   ],
   "source": [
    "print(loss_matrix)\n",
    "print(alpha)\n",
    "print(lr)"
   ]
  },
  {
   "cell_type": "code",
   "execution_count": 44,
   "metadata": {
    "colab": {
     "base_uri": "https://localhost:8080/"
    },
    "id": "PPztUaVUD-co",
    "outputId": "83375ab8-f572-4d57-9915-f965957eccd1"
   },
   "outputs": [
    {
     "name": "stdout",
     "output_type": "stream",
     "text": [
      "epoch:1   training_loss: 0.6907359577928105   validation_loss: 0.6869689670680139 \n",
      "epoch:2   training_loss: 0.6837922516368484   validation_loss: 0.6811607520550487 \n",
      "epoch:3   training_loss: 0.6771904102414807   validation_loss: 0.6755810898582559 \n",
      "epoch:4   training_loss: 0.6708230986548167   validation_loss: 0.6702097005195327 \n",
      "epoch:5   training_loss: 0.6647031748299941   validation_loss: 0.6651304611463378 \n",
      "epoch:6   training_loss: 0.6587841594356636   validation_loss: 0.6603101981530903 \n",
      "epoch:7   training_loss: 0.6530761215384729   validation_loss: 0.655702914645293 \n",
      "epoch:8   training_loss: 0.6475598859087718   validation_loss: 0.6512708704176646 \n",
      "epoch:9   training_loss: 0.6422149649877474   validation_loss: 0.647045320737333 \n",
      "epoch:10   training_loss: 0.6370221071191017   validation_loss: 0.6429281261504799 \n",
      "epoch:11   training_loss: 0.6320234269561066   validation_loss: 0.6390408033936307 \n",
      "epoch:12   training_loss: 0.6271524859452893   validation_loss: 0.6353139072475456 \n",
      "epoch:13   training_loss: 0.622426979233049   validation_loss: 0.6316827311528925 \n",
      "epoch:14   training_loss: 0.6178326713156839   validation_loss: 0.6281634911077192 \n",
      "epoch:15   training_loss: 0.6133503122429566   validation_loss: 0.624817843052075 \n",
      "epoch:16   training_loss: 0.6089910768374818   validation_loss: 0.6215135217099642 \n",
      "epoch:17   training_loss: 0.6046376233833749   validation_loss: 0.6182909520912129 \n",
      "epoch:18   training_loss: 0.6005531786108437   validation_loss: 0.6154065315405446 \n",
      "epoch:19   training_loss: 0.5966000501870823   validation_loss: 0.6124125406658891 \n",
      "epoch:20   training_loss: 0.5926584419729038   validation_loss: 0.6095948904499456 \n",
      "epoch:21   training_loss: 0.5888269464381446   validation_loss: 0.606790786583506 \n",
      "epoch:22   training_loss: 0.5850742293138489   validation_loss: 0.6040902877720673 \n",
      "epoch:23   training_loss: 0.5814059647916824   validation_loss: 0.601487416611026 \n",
      "epoch:24   training_loss: 0.5777820774368986   validation_loss: 0.5990582664018894 \n",
      "epoch:25   training_loss: 0.5743041001768214   validation_loss: 0.5966278768713568 \n",
      "epoch:26   training_loss: 0.5708789221843488   validation_loss: 0.5942065356414516 \n",
      "epoch:27   training_loss: 0.5675092036820969   validation_loss: 0.5919031845092896 \n",
      "epoch:28   training_loss: 0.5642125859471755   validation_loss: 0.5895588885941844 \n",
      "epoch:29   training_loss: 0.5609878484580076   validation_loss: 0.5874159468533517 \n",
      "epoch:30   training_loss: 0.5578597145113808   validation_loss: 0.5852456532346736 \n",
      "epoch:31   training_loss: 0.5547602791930495   validation_loss: 0.58310839504771 \n",
      "epoch:32   training_loss: 0.5517186079432741   validation_loss: 0.5810298396339916 \n",
      "epoch:33   training_loss: 0.5487101538326755   validation_loss: 0.5791708587952251 \n",
      "epoch:34   training_loss: 0.5458137236830182   validation_loss: 0.5773122893249575 \n",
      "epoch:35   training_loss: 0.5429669799585953   validation_loss: 0.5753459074211961 \n",
      "epoch:36   training_loss: 0.5401360061539011   validation_loss: 0.5735598392287209 \n",
      "epoch:37   training_loss: 0.5373793637948395   validation_loss: 0.5716441026564687 \n",
      "epoch:38   training_loss: 0.5346832408015874   validation_loss: 0.5698837945240669 \n",
      "epoch:39   training_loss: 0.532011403496861   validation_loss: 0.5681148294138922 \n",
      "epoch:40   training_loss: 0.5293629084999494   validation_loss: 0.5665562498899556 \n",
      "epoch:41   training_loss: 0.526814651499368   validation_loss: 0.564814137159008 \n",
      "epoch:42   training_loss: 0.5242830429141015   validation_loss: 0.5632459290273559 \n",
      "epoch:43   training_loss: 0.52179808396616   validation_loss: 0.5616809970730374 \n",
      "epoch:44   training_loss: 0.5193538543972438   validation_loss: 0.5600803494355349 \n",
      "epoch:45   training_loss: 0.5169373734844057   validation_loss: 0.5586285158649992 \n",
      "epoch:46   training_loss: 0.5145768079031754   validation_loss: 0.5571022252735545 \n",
      "epoch:47   training_loss: 0.5122431613325091   validation_loss: 0.5556421602815048 \n",
      "epoch:48   training_loss: 0.5099443835112241   validation_loss: 0.5541525126118383 \n",
      "epoch:49   training_loss: 0.5076839296794805   validation_loss: 0.5527086873570101 \n",
      "epoch:50   training_loss: 0.5054564056873653   validation_loss: 0.5514095888490372 \n",
      "epoch:51   training_loss: 0.5032280827239596   validation_loss: 0.5502426223272961 \n",
      "epoch:52   training_loss: 0.5010864255527419   validation_loss: 0.5489862377844016 \n",
      "epoch:53   training_loss: 0.4989464114304174   validation_loss: 0.5474412882138359 \n",
      "epoch:54   training_loss: 0.49688748313934145   validation_loss: 0.5462784375769487 \n",
      "epoch:55   training_loss: 0.49482575347774005   validation_loss: 0.5449882615806532 \n",
      "epoch:56   training_loss: 0.4927888127419346   validation_loss: 0.543795078526222 \n",
      "epoch:57   training_loss: 0.49075606462372623   validation_loss: 0.5424947121356319 \n",
      "epoch:58   training_loss: 0.4888040640468338   validation_loss: 0.5413066447492908 \n",
      "epoch:59   training_loss: 0.4868519270245633   validation_loss: 0.5401935937217542 \n",
      "epoch:60   training_loss: 0.4849295644316418   validation_loss: 0.5390577377803316 \n",
      "epoch:61   training_loss: 0.4830226134142431   validation_loss: 0.5380469284033943 \n",
      "epoch:62   training_loss: 0.4811518815253575   validation_loss: 0.5369498203258093 \n",
      "epoch:63   training_loss: 0.47926945128009085   validation_loss: 0.5360339119598666 \n",
      "epoch:64   training_loss: 0.4774836908669838   validation_loss: 0.5349158882054315 \n",
      "epoch:65   training_loss: 0.4756700556265173   validation_loss: 0.5338627692997724 \n",
      "epoch:66   training_loss: 0.473893269000475   validation_loss: 0.5328969043161454 \n",
      "epoch:67   training_loss: 0.47214829756058324   validation_loss: 0.5318682869491151 \n",
      "epoch:68   training_loss: 0.4704071240901159   validation_loss: 0.5308335550499642 \n",
      "epoch:69   training_loss: 0.4686945316745867   validation_loss: 0.5298823159189842 \n",
      "epoch:70   training_loss: 0.4670048503399143   validation_loss: 0.5288282456823614 \n",
      "epoch:71   training_loss: 0.4653325087592048   validation_loss: 0.527900592361837 \n",
      "epoch:72   training_loss: 0.4636847841692357   validation_loss: 0.5269310657106943 \n",
      "epoch:73   training_loss: 0.46205891866028215   validation_loss: 0.5260128756602452 \n",
      "epoch:74   training_loss: 0.46044413200201345   validation_loss: 0.5251735688231748 \n",
      "epoch:75   training_loss: 0.4588556620491175   validation_loss: 0.5243136490007171 \n",
      "epoch:76   training_loss: 0.4572745671001244   validation_loss: 0.523377512287931 \n",
      "epoch:77   training_loss: 0.4557003818041625   validation_loss: 0.5224259800573552 \n",
      "epoch:78   training_loss: 0.4541891071200426   validation_loss: 0.521637361328989 \n",
      "epoch:79   training_loss: 0.45266230134221735   validation_loss: 0.5209046734459128 \n",
      "epoch:80   training_loss: 0.4511541632859243   validation_loss: 0.5201782494073354 \n",
      "epoch:81   training_loss: 0.4496765949759049   validation_loss: 0.519347605452524 \n",
      "epoch:82   training_loss: 0.4482015223671148   validation_loss: 0.5185810772232569 \n",
      "epoch:83   training_loss: 0.4467415160819816   validation_loss: 0.5178829240266338 \n",
      "epoch:84   training_loss: 0.44531611003903265   validation_loss: 0.5169883791677847 \n",
      "epoch:85   training_loss: 0.4438861485023997   validation_loss: 0.5163016675234458 \n",
      "epoch:86   training_loss: 0.4424868017978419   validation_loss: 0.5155457933853381 \n",
      "epoch:87   training_loss: 0.4410954010935544   validation_loss: 0.5147769022684163 \n",
      "epoch:88   training_loss: 0.4397163246045988   validation_loss: 0.514002071119866 \n",
      "epoch:89   training_loss: 0.4383222505624706   validation_loss: 0.5134275627253366 \n",
      "epoch:90   training_loss: 0.4370046634408649   validation_loss: 0.512664079303955 \n",
      "epoch:91   training_loss: 0.4356652353653027   validation_loss: 0.5118946875195803 \n",
      "epoch:92   training_loss: 0.43434209334750873   validation_loss: 0.5112562463895379 \n",
      "epoch:93   training_loss: 0.433029333191198   validation_loss: 0.5105251977630866 \n",
      "epoch:94   training_loss: 0.43173782419456413   validation_loss: 0.5098530486844307 \n",
      "epoch:95   training_loss: 0.4304524360643154   validation_loss: 0.5092800317731296 \n",
      "epoch:96   training_loss: 0.4291823067282813   validation_loss: 0.5086728862289535 \n",
      "epoch:97   training_loss: 0.427914635911736   validation_loss: 0.5081014396697342 \n",
      "epoch:98   training_loss: 0.4266755929655249   validation_loss: 0.5075093231624672 \n",
      "epoch:99   training_loss: 0.4254123085043961   validation_loss: 0.5066286263390419 \n"
     ]
    },
    {
     "name": "stdout",
     "output_type": "stream",
     "text": [
      "epoch:100   training_loss: 0.42422672266856987   validation_loss: 0.506046062586729 \n"
     ]
    }
   ],
   "source": [
    "weights, training_loss_history, validation_loss_history = SGD(matrix_tf_train_ch, train_arr_y, matrix_tf_dev_ch,\n",
    "                                                              dev_arr_y, lr=lr, alpha=alpha, epochs=100)"
   ]
  },
  {
   "cell_type": "code",
   "execution_count": 45,
   "metadata": {
    "colab": {
     "base_uri": "https://localhost:8080/",
     "height": 265
    },
    "id": "kIhgr-uSD-co",
    "outputId": "29c07ee7-5a83-4388-a34c-ea2cf8a6ef64",
    "scrolled": false
   },
   "outputs": [
    {
     "data": {
      "image/png": "[encoded data removed]",
      "text/plain": [
       "<Figure size 432x288 with 1 Axes>"
      ]
     },
     "metadata": {
      "needs_background": "light"
     },
     "output_type": "display_data"
    }
   ],
   "source": [
    "plt.plot(training_loss_history, label = \"training_loss_history\")\n",
    "plt.plot(validation_loss_history, label = \"validation_loss_history\")\n",
    "plt.legend()\n",
    "plt.show()"
   ]
  },
  {
   "cell_type": "markdown",
   "metadata": {},
   "source": [
    "Explanation:\n",
    "\n",
    "The model is OK with the selected the best hyperparameters. \n",
    "There is no any overfitting and/or underfitting problems. \n",
    "Validation Loss is higher than training loss, as expected. \n",
    "Validation and Training Loss are decreasing by every epoch. \n",
    "There is reasonable relation between the validation loss and training loss. \n",
    "The model's learning process is not so long or short, so it is reasonable and acceptable considering whole data. "
   ]
  },
  {
   "cell_type": "code",
   "execution_count": 46,
   "metadata": {
    "ExecuteTime": {
     "end_time": "2020-02-15T14:17:51.607940Z",
     "start_time": "2020-02-15T14:17:51.600272Z"
    },
    "colab": {
     "base_uri": "https://localhost:8080/"
    },
    "id": "APbkK7KxD-co",
    "outputId": "c4d83080-d3e3-418d-c19f-efdd0dc92249"
   },
   "outputs": [
    {
     "name": "stdout",
     "output_type": "stream",
     "text": [
      "Accuracy: 0.8175\n",
      "Precision: 0.8067632850241546\n",
      "Recall: 0.835\n",
      "F1-Score: 0.8206388206388205\n"
     ]
    }
   ],
   "source": [
    "preds_te_BOCN_count = predict_class(matrix_tf_test_ch, weights)\n",
    "\n",
    "BOCN_count_accuracy = accuracy_score(test_arr_y, preds_te_BOCN_count)\n",
    "BOCN_count_precision = precision_score(test_arr_y, preds_te_BOCN_count)\n",
    "BOCN_count_recall = recall_score(test_arr_y, preds_te_BOCN_count)\n",
    "BOCN_count_f1_score = f1_score(test_arr_y, preds_te_BOCN_count)\n",
    "\n",
    "print('Accuracy:', BOCN_count_accuracy)\n",
    "print('Precision:', BOCN_count_precision)\n",
    "print('Recall:', BOCN_count_recall)\n",
    "print('F1-Score:', BOCN_count_f1_score)"
   ]
  },
  {
   "cell_type": "code",
   "execution_count": 47,
   "metadata": {
    "ExecuteTime": {
     "end_time": "2020-02-15T14:17:51.613935Z",
     "start_time": "2020-02-15T14:17:51.610660Z"
    },
    "colab": {
     "base_uri": "https://localhost:8080/"
    },
    "id": "tEOc5omKD-cp",
    "outputId": "0dcebbbf-6f92-4698-fd89-bf581250c6c1"
   },
   "outputs": [
    {
     "name": "stdout",
     "output_type": "stream",
     "text": [
      "plot\n",
      "wors\n",
      "acti\n",
      "ppos\n",
      "make\n",
      "wast\n",
      "uppos\n",
      "ppose\n",
      "waste\n",
      "worst\n"
     ]
    }
   ],
   "source": [
    "top_neg = weights.argsort()[:10]\n",
    "for i in top_neg:\n",
    "    print(id_vocab_ch[i])"
   ]
  },
  {
   "cell_type": "code",
   "execution_count": 48,
   "metadata": {
    "ExecuteTime": {
     "end_time": "2020-02-15T14:17:51.624122Z",
     "start_time": "2020-02-15T14:17:51.615674Z"
    },
    "colab": {
     "base_uri": "https://localhost:8080/"
    },
    "id": "rADBBnRDD-cp",
    "outputId": "7995ff29-18f1-4fc4-8c42-6a714e7f77c2",
    "scrolled": false
   },
   "outputs": [
    {
     "name": "stdout",
     "output_type": "stream",
     "text": [
      "reat\n",
      "grea\n",
      "great\n",
      "fect\n",
      "ecti\n",
      "ding\n",
      "life\n",
      "perf\n",
      "ture\n",
      "rful\n"
     ]
    }
   ],
   "source": [
    "top_pos = weights.argsort()[::-1][:10]\n",
    "for i in top_pos:\n",
    "    print(id_vocab_ch[i])"
   ]
  },
  {
   "cell_type": "markdown",
   "metadata": {},
   "source": [
    "### 4) BOCN tfidf "
   ]
  },
  {
   "cell_type": "code",
   "execution_count": 49,
   "metadata": {},
   "outputs": [],
   "source": [
    "num = 3\n",
    "alpha_vec = np.array([0.000000001, 0.00000001, 0.0000001])\n",
    "lr_vec = np.array([2,3,4])\n",
    "loss_matrix = np.empty([num, num])"
   ]
  },
  {
   "cell_type": "code",
   "execution_count": 50,
   "metadata": {
    "id": "n8nmWhVjDJSM"
   },
   "outputs": [],
   "source": [
    "weights, alpha, lr, loss_matrix = hyper_params(matrix_tf_idf_train_ch, train_arr_y, matrix_tf_idf_dev_ch, dev_arr_y,\n",
    "                                               matrix_tf_idf_test_ch, epochs=10, tolerance=0.000001,\n",
    "                                               print_progress=False)"
   ]
  },
  {
   "cell_type": "code",
   "execution_count": 51,
   "metadata": {
    "colab": {
     "base_uri": "https://localhost:8080/"
    },
    "id": "Sjf3uYNdDJSM",
    "outputId": "c4496ed2-d178-4b47-ee38-39e6b89efe7d"
   },
   "outputs": [
    {
     "data": {
      "text/plain": [
       "(1e-09,\n",
       " 4,\n",
       " array([[0.67768837, 0.67031353, 0.66316021],\n",
       "        [0.67769421, 0.67032986, 0.6631892 ],\n",
       "        [0.67776974, 0.67049402, 0.66347377]]))"
      ]
     },
     "execution_count": 51,
     "metadata": {},
     "output_type": "execute_result"
    }
   ],
   "source": [
    "alpha, lr, loss_matrix"
   ]
  },
  {
   "cell_type": "code",
   "execution_count": 52,
   "metadata": {
    "colab": {
     "base_uri": "https://localhost:8080/"
    },
    "id": "_pJ4_HYCDJSN",
    "outputId": "6216f88d-6900-410f-9140-7a7cbdb32283"
   },
   "outputs": [
    {
     "name": "stdout",
     "output_type": "stream",
     "text": [
      "epoch:1   training_loss: 0.6920406175091869   validation_loss: 0.6909307690930254 \n",
      "epoch:2   training_loss: 0.688656907287468   validation_loss: 0.6887459546040386 \n",
      "epoch:3   training_loss: 0.6853191059581448   validation_loss: 0.6865878760913219 \n",
      "epoch:4   training_loss: 0.6820231031067265   validation_loss: 0.6844602021600766 \n",
      "epoch:5   training_loss: 0.6787781793485309   validation_loss: 0.6823568436674762 \n",
      "epoch:6   training_loss: 0.6755709639002001   validation_loss: 0.6802816938708369 \n",
      "epoch:7   training_loss: 0.6724063905295427   validation_loss: 0.6782310181653781 \n",
      "epoch:8   training_loss: 0.6692865590258811   validation_loss: 0.6762087903633934 \n",
      "epoch:9   training_loss: 0.666204055089928   validation_loss: 0.6742106358855673 \n",
      "epoch:10   training_loss: 0.6631607714708174   validation_loss: 0.6722391892344151 \n",
      "epoch:11   training_loss: 0.6601524985808169   validation_loss: 0.6702946833431337 \n",
      "epoch:12   training_loss: 0.6571903703584397   validation_loss: 0.6683734147312331 \n",
      "epoch:13   training_loss: 0.6542604116295931   validation_loss: 0.6664725447373968 \n",
      "epoch:14   training_loss: 0.6513682932895601   validation_loss: 0.6645978702508921 \n",
      "epoch:15   training_loss: 0.6485117562501881   validation_loss: 0.662744449920562 \n",
      "epoch:16   training_loss: 0.645691196775865   validation_loss: 0.6609151260854549 \n",
      "epoch:17   training_loss: 0.6429036027271331   validation_loss: 0.6591081663184235 \n",
      "epoch:18   training_loss: 0.6401516928186658   validation_loss: 0.6573250243438311 \n",
      "epoch:19   training_loss: 0.6374310957461721   validation_loss: 0.6555617488237521 \n",
      "epoch:20   training_loss: 0.6347448871722413   validation_loss: 0.6538227415435917 \n",
      "epoch:21   training_loss: 0.6320897286313298   validation_loss: 0.6521042758776642 \n",
      "epoch:22   training_loss: 0.6294663758077795   validation_loss: 0.6504058588372038 \n",
      "epoch:23   training_loss: 0.6268732759180793   validation_loss: 0.6487269607272899 \n",
      "epoch:24   training_loss: 0.6243106874352972   validation_loss: 0.6470708001472694 \n",
      "epoch:25   training_loss: 0.6217785926152802   validation_loss: 0.6454333256969332 \n",
      "epoch:26   training_loss: 0.6192754370324068   validation_loss: 0.6438147964918203 \n",
      "epoch:27   training_loss: 0.6167988102559149   validation_loss: 0.6422182694005076 \n",
      "epoch:28   training_loss: 0.6143544068081926   validation_loss: 0.6406377247286595 \n",
      "epoch:29   training_loss: 0.611935426373994   validation_loss: 0.6390766305208898 \n",
      "epoch:30   training_loss: 0.6095440382110547   validation_loss: 0.6375319679273805 \n",
      "epoch:31   training_loss: 0.6071790417849463   validation_loss: 0.6360071887926718 \n",
      "epoch:32   training_loss: 0.6048407523228405   validation_loss: 0.634499713694294 \n",
      "epoch:33   training_loss: 0.6025284304973837   validation_loss: 0.6330092482426248 \n",
      "epoch:34   training_loss: 0.6002414683852471   validation_loss: 0.631531685702411 \n",
      "epoch:35   training_loss: 0.5979790993918912   validation_loss: 0.6300761948432739 \n",
      "epoch:36   training_loss: 0.5957424636618818   validation_loss: 0.6286332958429562 \n",
      "epoch:37   training_loss: 0.5935257093247513   validation_loss: 0.6272030737275514 \n",
      "epoch:38   training_loss: 0.5913374895698164   validation_loss: 0.6257898080682601 \n",
      "epoch:39   training_loss: 0.5891738475723259   validation_loss: 0.6243990703696516 \n",
      "epoch:40   training_loss: 0.5870305988166293   validation_loss: 0.623024221085158 \n",
      "epoch:41   training_loss: 0.5849092926810747   validation_loss: 0.6216663586253606 \n",
      "epoch:42   training_loss: 0.5828117166699902   validation_loss: 0.6203196683009825 \n",
      "epoch:43   training_loss: 0.5807330237590703   validation_loss: 0.6189922817181626 \n",
      "epoch:44   training_loss: 0.5786805637314125   validation_loss: 0.6176735225006721 \n",
      "epoch:45   training_loss: 0.5766461667366286   validation_loss: 0.616369806670002 \n",
      "epoch:46   training_loss: 0.5746324744850169   validation_loss: 0.6150844319736243 \n",
      "epoch:47   training_loss: 0.5726409285230568   validation_loss: 0.613809984011958 \n",
      "epoch:48   training_loss: 0.5706663785056871   validation_loss: 0.6125428521938212 \n",
      "epoch:49   training_loss: 0.5687149723833709   validation_loss: 0.6112922836182249 \n",
      "epoch:50   training_loss: 0.5667824667690887   validation_loss: 0.6100623578095634 \n",
      "epoch:51   training_loss: 0.5648691979906894   validation_loss: 0.6088392253920074 \n",
      "epoch:52   training_loss: 0.5629745385482436   validation_loss: 0.6076311625904425 \n",
      "epoch:53   training_loss: 0.5610981658256355   validation_loss: 0.6064360924733109 \n",
      "epoch:54   training_loss: 0.5592387786073066   validation_loss: 0.6052573081858964 \n",
      "epoch:55   training_loss: 0.5573999617211527   validation_loss: 0.604086917672065 \n",
      "epoch:56   training_loss: 0.555577620920306   validation_loss: 0.6029292901599927 \n",
      "epoch:57   training_loss: 0.5537726248666519   validation_loss: 0.6017841064449007 \n",
      "epoch:58   training_loss: 0.5519846269854684   validation_loss: 0.6006467423234004 \n",
      "epoch:59   training_loss: 0.5502148969735937   validation_loss: 0.5995252203162902 \n",
      "epoch:60   training_loss: 0.5484607471260251   validation_loss: 0.5984157689679737 \n",
      "epoch:61   training_loss: 0.5467235464870721   validation_loss: 0.597316856221001 \n",
      "epoch:62   training_loss: 0.5450019033892375   validation_loss: 0.5962245434833056 \n",
      "epoch:63   training_loss: 0.5432967206195464   validation_loss: 0.5951500180213533 \n",
      "epoch:64   training_loss: 0.5416079069165609   validation_loss: 0.5940813782708666 \n",
      "epoch:65   training_loss: 0.5399337948832785   validation_loss: 0.5930232960791062 \n",
      "epoch:66   training_loss: 0.5382749626703954   validation_loss: 0.5919765336677303 \n",
      "epoch:67   training_loss: 0.536631315493882   validation_loss: 0.5909408566596906 \n",
      "epoch:68   training_loss: 0.5350009651000974   validation_loss: 0.5899225095417997 \n",
      "epoch:69   training_loss: 0.533388235450346   validation_loss: 0.5889095787834618 \n",
      "epoch:70   training_loss: 0.531788529231065   validation_loss: 0.5879044170979363 \n",
      "epoch:71   training_loss: 0.5302001378762472   validation_loss: 0.5869019101266153 \n",
      "epoch:72   training_loss: 0.5286308968745901   validation_loss: 0.5859172340171928 \n",
      "epoch:73   training_loss: 0.5270727972020361   validation_loss: 0.5849397220062932 \n",
      "epoch:74   training_loss: 0.5255284668347708   validation_loss: 0.5839716239159232 \n",
      "epoch:75   training_loss: 0.5239974847014888   validation_loss: 0.583013921042749 \n",
      "epoch:76   training_loss: 0.522479240116769   validation_loss: 0.5820703542565104 \n",
      "epoch:77   training_loss: 0.5209747964357483   validation_loss: 0.5811317959572686 \n",
      "epoch:78   training_loss: 0.5194824875085322   validation_loss: 0.5802004284062101 \n",
      "epoch:79   training_loss: 0.5180033632170775   validation_loss: 0.579282438023271 \n",
      "epoch:80   training_loss: 0.5165365482607382   validation_loss: 0.5783706569281465 \n",
      "epoch:81   training_loss: 0.5150815224980125   validation_loss: 0.5774645602367113 \n",
      "epoch:82   training_loss: 0.5136391713185241   validation_loss: 0.5765722096488612 \n",
      "epoch:83   training_loss: 0.5122088727664209   validation_loss: 0.5756889673875815 \n",
      "epoch:84   training_loss: 0.5107892300396881   validation_loss: 0.5748044286571309 \n",
      "epoch:85   training_loss: 0.5093834326439308   validation_loss: 0.5739356702418945 \n",
      "epoch:86   training_loss: 0.5079881325615186   validation_loss: 0.5730731422015871 \n",
      "epoch:87   training_loss: 0.5066019968908407   validation_loss: 0.5722106963024567 \n",
      "epoch:88   training_loss: 0.5052309388133672   validation_loss: 0.5713629562865928 \n",
      "epoch:89   training_loss: 0.5038679613610383   validation_loss: 0.5705200350511457 \n",
      "epoch:90   training_loss: 0.5025159165043893   validation_loss: 0.5696976378200795 \n",
      "epoch:91   training_loss: 0.5011771102118223   validation_loss: 0.5688743303857813 \n",
      "epoch:92   training_loss: 0.4998476778195441   validation_loss: 0.5680579544405665 \n",
      "epoch:93   training_loss: 0.49852807836696633   validation_loss: 0.5672456223975256 \n",
      "epoch:94   training_loss: 0.4972194398463751   validation_loss: 0.5664416270868587 \n",
      "epoch:95   training_loss: 0.4959203303872768   validation_loss: 0.5656501430360127 \n",
      "epoch:96   training_loss: 0.49463114042237327   validation_loss: 0.5648670568074305 \n",
      "epoch:97   training_loss: 0.49335300366481616   validation_loss: 0.5640832575411919 \n",
      "epoch:98   training_loss: 0.49208367338379616   validation_loss: 0.5633120462443341 \n",
      "epoch:99   training_loss: 0.4908247902380881   validation_loss: 0.5625419600950864 \n"
     ]
    },
    {
     "name": "stdout",
     "output_type": "stream",
     "text": [
      "epoch:100   training_loss: 0.48957470841046163   validation_loss: 0.5617831777550356 \n"
     ]
    }
   ],
   "source": [
    "weights, training_loss_history, validation_loss_history = SGD(matrix_tf_idf_train_ch, train_arr_y, matrix_tf_idf_dev_ch,\n",
    "                                                              dev_arr_y, lr=lr, alpha=alpha, epochs=100)"
   ]
  },
  {
   "cell_type": "code",
   "execution_count": 53,
   "metadata": {
    "colab": {
     "base_uri": "https://localhost:8080/",
     "height": 265
    },
    "id": "IPrWXzXUDJSN",
    "outputId": "d82f0d39-c60d-4b32-f06c-65c3d46b4fb9",
    "scrolled": false
   },
   "outputs": [
    {
     "data": {
      "image/png": "[encoded data removed]",
      "text/plain": [
       "<Figure size 432x288 with 1 Axes>"
      ]
     },
     "metadata": {
      "needs_background": "light"
     },
     "output_type": "display_data"
    }
   ],
   "source": [
    "plt.plot(training_loss_history, label = \"training_loss_history\")\n",
    "plt.plot(validation_loss_history, label = \"validation_loss_history\")\n",
    "plt.legend()\n",
    "plt.show()"
   ]
  },
  {
   "cell_type": "markdown",
   "metadata": {},
   "source": [
    "Explanation:\n",
    "\n",
    "The model is OK with the selected the best hyperparameters. \n",
    "There is no any overfitting and/or underfitting problems. \n",
    "Validation Loss is higher than training loss, as expected. \n",
    "Validation and Training Loss are decreasing by every epoch. \n",
    "There is reasonable relation between the validation loss and training loss. \n",
    "The model's learning process is not so long or short, so it is reasonable and acceptable considering whole data. "
   ]
  },
  {
   "cell_type": "code",
   "execution_count": 54,
   "metadata": {
    "ExecuteTime": {
     "end_time": "2020-02-15T14:17:51.607940Z",
     "start_time": "2020-02-15T14:17:51.600272Z"
    },
    "colab": {
     "base_uri": "https://localhost:8080/"
    },
    "id": "8-Nd371kDJSN",
    "outputId": "cda64eb0-b843-42fe-ece0-36ad734f6060"
   },
   "outputs": [
    {
     "name": "stdout",
     "output_type": "stream",
     "text": [
      "Accuracy: 0.8175\n",
      "Precision: 0.8009478672985783\n",
      "Recall: 0.845\n",
      "F1-Score: 0.8223844282238443\n"
     ]
    }
   ],
   "source": [
    "preds_te_BOCN_tfidf = predict_class(matrix_tf_idf_test_ch, weights)\n",
    "\n",
    "BOCN_tfidf_accuracy = accuracy_score(test_arr_y, preds_te_BOCN_tfidf)\n",
    "BOCN_tfidf_precision = precision_score(test_arr_y, preds_te_BOCN_tfidf)\n",
    "BOCN_tfidf_recall = recall_score(test_arr_y, preds_te_BOCN_tfidf)\n",
    "BOCN_tfidf_f1_score = f1_score(test_arr_y, preds_te_BOCN_tfidf)\n",
    "\n",
    "print('Accuracy:', BOCN_tfidf_accuracy)\n",
    "print('Precision:', BOCN_tfidf_precision)\n",
    "print('Recall:', BOCN_tfidf_recall)\n",
    "print('F1-Score:', BOCN_tfidf_f1_score)"
   ]
  },
  {
   "cell_type": "code",
   "execution_count": 55,
   "metadata": {
    "ExecuteTime": {
     "end_time": "2020-02-15T14:17:51.613935Z",
     "start_time": "2020-02-15T14:17:51.610660Z"
    },
    "colab": {
     "base_uri": "https://localhost:8080/"
    },
    "id": "NKV7uR_kDJSN",
    "outputId": "0ebf87d1-1596-4a74-9516-fde61cb41727"
   },
   "outputs": [
    {
     "name": "stdout",
     "output_type": "stream",
     "text": [
      "wors\n",
      "waste\n",
      "wast\n",
      "worst\n",
      "stup\n",
      "upid\n",
      "tupi\n",
      "tupid\n",
      "stupi\n",
      "orst\n"
     ]
    }
   ],
   "source": [
    "top_neg = weights.argsort()[:10]\n",
    "for i in top_neg:\n",
    "    print(id_vocab_ch[i])"
   ]
  },
  {
   "cell_type": "code",
   "execution_count": 56,
   "metadata": {
    "ExecuteTime": {
     "end_time": "2020-02-15T14:17:51.624122Z",
     "start_time": "2020-02-15T14:17:51.615674Z"
    },
    "colab": {
     "base_uri": "https://localhost:8080/"
    },
    "id": "nPmbCE-IDJSN",
    "outputId": "fe570f4a-b0ea-47e7-8d2e-24fb75b40e23",
    "scrolled": true
   },
   "outputs": [
    {
     "name": "stdout",
     "output_type": "stream",
     "text": [
      "grea\n",
      "beau\n",
      "great\n",
      "erfec\n",
      "rfect\n",
      "rfec\n",
      "perfe\n",
      "erful\n",
      "rful\n",
      "erfe\n"
     ]
    }
   ],
   "source": [
    "top_pos = weights.argsort()[::-1][:10]\n",
    "for i in top_pos:\n",
    "    print(id_vocab_ch[i])"
   ]
  },
  {
   "cell_type": "markdown",
   "metadata": {},
   "source": [
    "### 5) BOW + BOCN tfidf "
   ]
  },
  {
   "cell_type": "code",
   "execution_count": 57,
   "metadata": {},
   "outputs": [],
   "source": [
    "num = 3\n",
    "alpha_vec = np.array([0.000000001, 0.00000001, 0.0000001])\n",
    "lr_vec = np.array([2,3,4])\n",
    "loss_matrix = np.empty([num, num])"
   ]
  },
  {
   "cell_type": "code",
   "execution_count": 58,
   "metadata": {
    "id": "ObjC62c7E-dx"
   },
   "outputs": [],
   "source": [
    "weights, alpha, lr, loss_matrix = hyper_params(merged_matrix_tf_idf_train, train_arr_y, merged_matrix_tf_idf_dev, \n",
    "                                               dev_arr_y, merged_matrix_tf_idf_test, epochs=10, tolerance=0.000001, \n",
    "                                               print_progress=False)"
   ]
  },
  {
   "cell_type": "code",
   "execution_count": 59,
   "metadata": {
    "colab": {
     "base_uri": "https://localhost:8080/"
    },
    "id": "w28v91kqE-dx",
    "outputId": "e9f182f6-efd3-49ff-8795-5eeaaba7c32e"
   },
   "outputs": [
    {
     "name": "stdout",
     "output_type": "stream",
     "text": [
      "[[0.55647013 0.50876638 0.46972093]\n",
      " [0.55654049 0.50887927 0.46988031]\n",
      " [0.55713467 0.51007545 0.47178392]]\n",
      "1e-09\n",
      "4\n"
     ]
    }
   ],
   "source": [
    "print(loss_matrix)\n",
    "print(alpha)\n",
    "print(lr)"
   ]
  },
  {
   "cell_type": "code",
   "execution_count": 60,
   "metadata": {
    "colab": {
     "base_uri": "https://localhost:8080/"
    },
    "id": "E6sIJ1S1E-dx",
    "outputId": "a5d256c0-0ff6-4a11-827c-0ac25e82a24e"
   },
   "outputs": [
    {
     "name": "stdout",
     "output_type": "stream",
     "text": [
      "epoch:1   training_loss: 0.6827659026970376   validation_loss: 0.6732744605230613 \n",
      "epoch:2   training_loss: 0.6481531717351838   validation_loss: 0.6557190717084426 \n",
      "epoch:3   training_loss: 0.6173341112126272   validation_loss: 0.6400296590428965 \n",
      "epoch:4   training_loss: 0.5897028292376054   validation_loss: 0.6259876082131166 \n",
      "epoch:5   training_loss: 0.5647862340879005   validation_loss: 0.6132830078760667 \n",
      "epoch:6   training_loss: 0.5422559188196234   validation_loss: 0.6019139050322297 \n",
      "epoch:7   training_loss: 0.5216979306888415   validation_loss: 0.5914907880940077 \n",
      "epoch:8   training_loss: 0.5028892388502748   validation_loss: 0.58194172272072 \n",
      "epoch:9   training_loss: 0.48563094575458665   validation_loss: 0.5733293629907279 \n",
      "epoch:10   training_loss: 0.46969698929751297   validation_loss: 0.5653690075375506 \n",
      "epoch:11   training_loss: 0.45492850573766497   validation_loss: 0.5579570881588749 \n",
      "epoch:12   training_loss: 0.44122164886546517   validation_loss: 0.5510678502928504 \n",
      "epoch:13   training_loss: 0.4284419888280927   validation_loss: 0.5447239776782612 \n",
      "epoch:14   training_loss: 0.41647211603428347   validation_loss: 0.538946085087666 \n",
      "epoch:15   training_loss: 0.40526993434361147   validation_loss: 0.5334191123254383 \n",
      "epoch:16   training_loss: 0.3947197313948771   validation_loss: 0.5283048312052238 \n",
      "epoch:17   training_loss: 0.3847951116524849   validation_loss: 0.523427426925206 \n",
      "epoch:18   training_loss: 0.37541391409526154   validation_loss: 0.5188297248918317 \n",
      "epoch:19   training_loss: 0.36652865563583126   validation_loss: 0.5144842165175312 \n",
      "epoch:20   training_loss: 0.35811187230817115   validation_loss: 0.5103309185440456 \n",
      "epoch:21   training_loss: 0.35009163613274225   validation_loss: 0.5062711801503417 \n",
      "epoch:22   training_loss: 0.3424923654475766   validation_loss: 0.5026203193737152 \n",
      "epoch:23   training_loss: 0.3352350218003754   validation_loss: 0.49913802862615725 \n",
      "epoch:24   training_loss: 0.328303645149208   validation_loss: 0.49586204560193786 \n",
      "epoch:25   training_loss: 0.32168786264513   validation_loss: 0.4926394762910696 \n",
      "epoch:26   training_loss: 0.31534824768311315   validation_loss: 0.4895487780689085 \n",
      "epoch:27   training_loss: 0.30927116688861483   validation_loss: 0.48657188483095426 \n",
      "epoch:28   training_loss: 0.30345075574420566   validation_loss: 0.4838225422348809 \n",
      "epoch:29   training_loss: 0.2978568663270198   validation_loss: 0.48126171334717355 \n",
      "epoch:30   training_loss: 0.29247661781490825   validation_loss: 0.47866685002874093 \n",
      "epoch:31   training_loss: 0.28731302979767165   validation_loss: 0.47618259561674536 \n",
      "epoch:32   training_loss: 0.2823341091831478   validation_loss: 0.4738825515294789 \n",
      "epoch:33   training_loss: 0.2775285065461627   validation_loss: 0.4716467894331005 \n",
      "epoch:34   training_loss: 0.272902727129331   validation_loss: 0.46944015788943133 \n",
      "epoch:35   training_loss: 0.2684293468764658   validation_loss: 0.46743138813364715 \n",
      "epoch:36   training_loss: 0.2641140166321959   validation_loss: 0.4653829113410775 \n",
      "epoch:37   training_loss: 0.2599369407655266   validation_loss: 0.46341877060640996 \n",
      "epoch:38   training_loss: 0.2558990066586849   validation_loss: 0.4615706024322141 \n",
      "epoch:39   training_loss: 0.25198556192461785   validation_loss: 0.45975852168231685 \n",
      "epoch:40   training_loss: 0.24819759789518417   validation_loss: 0.4580454703331744 \n",
      "epoch:41   training_loss: 0.24452088658011478   validation_loss: 0.45644785633563856 \n",
      "epoch:42   training_loss: 0.24096373394032583   validation_loss: 0.4548026523114709 \n",
      "epoch:43   training_loss: 0.2375065017228516   validation_loss: 0.45323799496120204 \n",
      "epoch:44   training_loss: 0.23414704795169858   validation_loss: 0.45166047065467124 \n",
      "epoch:45   training_loss: 0.23089218042495604   validation_loss: 0.45015891404229585 \n",
      "epoch:46   training_loss: 0.22772390236726803   validation_loss: 0.44871197488024483 \n",
      "epoch:47   training_loss: 0.22464285508411783   validation_loss: 0.44737418344984803 \n",
      "epoch:48   training_loss: 0.22164475269400555   validation_loss: 0.4459526399098035 \n",
      "epoch:49   training_loss: 0.2187217210005826   validation_loss: 0.44454025437238287 \n",
      "epoch:50   training_loss: 0.2158931441327582   validation_loss: 0.4433760400069076 \n",
      "epoch:51   training_loss: 0.21312917549543864   validation_loss: 0.4421836677599258 \n",
      "epoch:52   training_loss: 0.21043461936297575   validation_loss: 0.4409840053283625 \n",
      "epoch:53   training_loss: 0.20780707071334933   validation_loss: 0.43977367385736804 \n",
      "epoch:54   training_loss: 0.20525049862025294   validation_loss: 0.43863999266183357 \n",
      "epoch:55   training_loss: 0.20275369859302084   validation_loss: 0.43758142156453217 \n",
      "epoch:56   training_loss: 0.20031515930715946   validation_loss: 0.43647401826450843 \n",
      "epoch:57   training_loss: 0.19792925557329002   validation_loss: 0.43534899454504566 \n",
      "epoch:58   training_loss: 0.19561596512340673   validation_loss: 0.4344346402269615 \n",
      "epoch:59   training_loss: 0.19334859224324882   validation_loss: 0.4334759421887627 \n",
      "epoch:60   training_loss: 0.19113176856127256   validation_loss: 0.43256159788076914 \n",
      "epoch:61   training_loss: 0.18896575048825184   validation_loss: 0.43168250556735316 \n",
      "epoch:62   training_loss: 0.18684767109399028   validation_loss: 0.4308043929618835 \n",
      "epoch:63   training_loss: 0.18477991132483815   validation_loss: 0.4298941619983645 \n",
      "epoch:64   training_loss: 0.18275129473007035   validation_loss: 0.4289409825368397 \n",
      "epoch:65   training_loss: 0.18077231942051994   validation_loss: 0.42806476726936565 \n",
      "epoch:66   training_loss: 0.17883629670184487   validation_loss: 0.42726032538138675 \n",
      "epoch:67   training_loss: 0.17693809806484462   validation_loss: 0.42649999546172374 \n",
      "epoch:68   training_loss: 0.1750773873594809   validation_loss: 0.4257994769434245 \n",
      "epoch:69   training_loss: 0.1732611014716598   validation_loss: 0.4250106612784563 \n",
      "epoch:70   training_loss: 0.17147712215400296   validation_loss: 0.42420796909838465 \n",
      "epoch:71   training_loss: 0.1697316731209759   validation_loss: 0.42347516593553364 \n",
      "epoch:72   training_loss: 0.1680206848440631   validation_loss: 0.42275173577126673 \n",
      "epoch:73   training_loss: 0.16634316452828818   validation_loss: 0.42208135405906944 \n",
      "epoch:74   training_loss: 0.1646987795283568   validation_loss: 0.4214043515047114 \n",
      "epoch:75   training_loss: 0.16308641873654847   validation_loss: 0.420731359907203 \n",
      "epoch:76   training_loss: 0.16150376002580766   validation_loss: 0.4201296602947913 \n",
      "epoch:77   training_loss: 0.15995086910346049   validation_loss: 0.41954588388411634 \n",
      "epoch:78   training_loss: 0.15843041277901557   validation_loss: 0.4188820274078372 \n",
      "epoch:79   training_loss: 0.15693199737740077   validation_loss: 0.41834451556936364 \n",
      "epoch:80   training_loss: 0.15546813761267836   validation_loss: 0.417671110257132 \n",
      "epoch:81   training_loss: 0.1540302088232266   validation_loss: 0.41708727228555803 \n",
      "epoch:82   training_loss: 0.15261532846394568   validation_loss: 0.4165450146114835 \n",
      "epoch:83   training_loss: 0.15122808269713772   validation_loss: 0.4159778451348592 \n",
      "epoch:84   training_loss: 0.149863570476163   validation_loss: 0.41545374688891296 \n",
      "epoch:85   training_loss: 0.14852445830817865   validation_loss: 0.4148868639514089 \n",
      "epoch:86   training_loss: 0.1472075809230941   validation_loss: 0.41438000368563055 \n",
      "epoch:87   training_loss: 0.14591305004862815   validation_loss: 0.41390771145411703 \n",
      "epoch:88   training_loss: 0.14464211813899255   validation_loss: 0.4134297175866875 \n",
      "epoch:89   training_loss: 0.1433937622751498   validation_loss: 0.41289010234649465 \n",
      "epoch:90   training_loss: 0.14216359664284364   validation_loss: 0.41243455358993025 \n",
      "epoch:91   training_loss: 0.1409514258051967   validation_loss: 0.41202059286052856 \n",
      "epoch:92   training_loss: 0.13976691055091828   validation_loss: 0.41158068340284176 \n",
      "epoch:93   training_loss: 0.13859538047995273   validation_loss: 0.41100959090216593 \n",
      "epoch:94   training_loss: 0.13744838357816247   validation_loss: 0.4106076687629333 \n",
      "epoch:95   training_loss: 0.1363155475882766   validation_loss: 0.4100776646133111 \n",
      "epoch:96   training_loss: 0.1352047414178871   validation_loss: 0.4096868778971013 \n",
      "epoch:97   training_loss: 0.13411003152363907   validation_loss: 0.409287885687907 \n"
     ]
    },
    {
     "name": "stdout",
     "output_type": "stream",
     "text": [
      "epoch:98   training_loss: 0.13303209272817765   validation_loss: 0.4088794393633205 \n",
      "epoch:99   training_loss: 0.13197081170491098   validation_loss: 0.40845367864911436 \n",
      "epoch:100   training_loss: 0.13092628834674844   validation_loss: 0.40804850250394353 \n"
     ]
    }
   ],
   "source": [
    "weights, training_loss_history, validation_loss_history = SGD(merged_matrix_tf_idf_train, train_arr_y,\n",
    "                                                              merged_matrix_tf_idf_dev, dev_arr_y, lr=lr, \n",
    "                                                              alpha=alpha, epochs=100)"
   ]
  },
  {
   "cell_type": "code",
   "execution_count": 61,
   "metadata": {
    "colab": {
     "base_uri": "https://localhost:8080/",
     "height": 267
    },
    "id": "r4tQaya7E-dx",
    "outputId": "026fc65d-e05e-4576-8185-3aecdc7a8758",
    "scrolled": false
   },
   "outputs": [
    {
     "data": {
      "image/png": "[encoded data removed]",
      "text/plain": [
       "<Figure size 432x288 with 1 Axes>"
      ]
     },
     "metadata": {
      "needs_background": "light"
     },
     "output_type": "display_data"
    }
   ],
   "source": [
    "plt.plot(training_loss_history, label = \"training_loss_history\")\n",
    "plt.plot(validation_loss_history, label = \"validation_loss_history\")\n",
    "plt.legend()\n",
    "plt.show()"
   ]
  },
  {
   "cell_type": "markdown",
   "metadata": {},
   "source": [
    "Explanation:\n",
    "\n",
    "The model is OK with the selected the best hyperparameters. \n",
    "There is no any overfitting and/or underfitting problems. \n",
    "Validation Loss is higher than training loss, as expected. \n",
    "Validation and Training Loss are decreasing by every epoch. \n",
    "There is reasonable relation between the validation loss and training loss. \n",
    "The model's learning process is not so long or short, so it is reasonable and acceptable considering whole data. "
   ]
  },
  {
   "cell_type": "code",
   "execution_count": 62,
   "metadata": {
    "colab": {
     "base_uri": "https://localhost:8080/"
    },
    "id": "0JK8X5cKMZWT",
    "outputId": "d5d160fb-75fd-44ce-ac06-25f5bbd06606"
   },
   "outputs": [
    {
     "name": "stdout",
     "output_type": "stream",
     "text": [
      "Accuracy: 0.85\n",
      "Precision: 0.8431372549019608\n",
      "Recall: 0.86\n",
      "F1-Score: 0.8514851485148515\n"
     ]
    }
   ],
   "source": [
    "preds_te_BOW_BOCN_tfidf = predict_class(merged_matrix_tf_idf_test, weights)\n",
    "\n",
    "BOW_BOCN_tfidf_accuracy = accuracy_score(test_arr_y, preds_te_BOW_BOCN_tfidf)\n",
    "BOW_BOCN_tfidf_precision = precision_score(test_arr_y, preds_te_BOW_BOCN_tfidf)\n",
    "BOW_BOCN_tfidf_recall = recall_score(test_arr_y, preds_te_BOW_BOCN_tfidf)\n",
    "BOW_BOCN_tfidf_f1_score = f1_score(test_arr_y, preds_te_BOW_BOCN_tfidf)\n",
    "\n",
    "print('Accuracy:', BOW_BOCN_tfidf_accuracy)\n",
    "print('Precision:', BOW_BOCN_tfidf_precision)\n",
    "print('Recall:', BOW_BOCN_tfidf_recall)\n",
    "print('F1-Score:', BOW_BOCN_tfidf_f1_score)"
   ]
  },
  {
   "cell_type": "code",
   "execution_count": 63,
   "metadata": {
    "ExecuteTime": {
     "end_time": "2020-02-15T14:17:51.613935Z",
     "start_time": "2020-02-15T14:17:51.610660Z"
    },
    "colab": {
     "base_uri": "https://localhost:8080/"
    },
    "id": "eWHb6zi7E-dy",
    "outputId": "8e2716b0-a4ac-462e-a35b-0bc7e1d7878e"
   },
   "outputs": [
    {
     "name": "stdout",
     "output_type": "stream",
     "text": [
      "arto\n",
      "xcit\n",
      "blic\n",
      "tele\n",
      "tabl\n",
      "ribl\n",
      "film\n",
      "rrat\n",
      "victi\n",
      "eriz\n"
     ]
    }
   ],
   "source": [
    "top_neg = weights.argsort()[:10]\n",
    "for i in top_neg:\n",
    "    print(id_vocab_ch[i])"
   ]
  },
  {
   "cell_type": "code",
   "execution_count": 64,
   "metadata": {
    "ExecuteTime": {
     "end_time": "2020-02-15T14:17:51.624122Z",
     "start_time": "2020-02-15T14:17:51.615674Z"
    },
    "colab": {
     "base_uri": "https://localhost:8080/"
    },
    "id": "DQerEo59E-dy",
    "outputId": "3dc9e50f-7387-4c4f-fdf0-55ea33c70179",
    "scrolled": false
   },
   "outputs": [
    {
     "name": "stdout",
     "output_type": "stream",
     "text": [
      "iest\n",
      "insp\n",
      "uble\n",
      "tino\n",
      "hors\n",
      "osing\n",
      "eyre\n",
      "share\n",
      "oses\n",
      "medi\n"
     ]
    }
   ],
   "source": [
    "top_pos = weights.argsort()[::-1][:10]\n",
    "for i in top_pos:\n",
    "    print(id_vocab_ch[i])"
   ]
  },
  {
   "cell_type": "markdown",
   "metadata": {
    "id": "e7plZHQwiiy6"
   },
   "source": [
    "\n",
    "\n",
    "## Full Results"
   ]
  },
  {
   "cell_type": "code",
   "execution_count": 65,
   "metadata": {
    "id": "ptTZgEAGXNXe"
   },
   "outputs": [],
   "source": [
    "data = {'Precision' :[BOW_count_precision, BOW_tfidf_precision, BOCN_count_precision,\n",
    "                      BOCN_tfidf_precision, BOW_BOCN_tfidf_precision],\n",
    "        'Recall' :[BOW_count_recall, BOW_tfidf_recall, BOCN_count_recall, BOCN_tfidf_recall, BOW_BOCN_tfidf_recall],\n",
    "        'F1-Score' :[BOW_count_f1_score, BOW_tfidf_f1_score, BOCN_count_f1_score,\n",
    "                     BOCN_tfidf_f1_score, BOW_BOCN_tfidf_f1_score]}\n",
    "index = ['BOW-count', 'BOW-tfidf', 'BOCN-count', 'BOCN-tfidf', 'BOW+BOCN']"
   ]
  },
  {
   "cell_type": "code",
   "execution_count": 66,
   "metadata": {
    "id": "J8fEEldJE9q-"
   },
   "outputs": [],
   "source": [
    "full_results = pd.DataFrame(data, index = index)"
   ]
  },
  {
   "cell_type": "code",
   "execution_count": 67,
   "metadata": {
    "colab": {
     "base_uri": "https://localhost:8080/",
     "height": 206
    },
    "id": "CBgbj4VXE9nV",
    "outputId": "0f56a758-fe2c-4244-9959-f5f2bc55283a"
   },
   "outputs": [
    {
     "data": {
      "text/html": [
       "<div>\n",
       "<style scoped>\n",
       "    .dataframe tbody tr th:only-of-type {\n",
       "        vertical-align: middle;\n",
       "    }\n",
       "\n",
       "    .dataframe tbody tr th {\n",
       "        vertical-align: top;\n",
       "    }\n",
       "\n",
       "    .dataframe thead th {\n",
       "        text-align: right;\n",
       "    }\n",
       "</style>\n",
       "<table border=\"1\" class=\"dataframe\">\n",
       "  <thead>\n",
       "    <tr style=\"text-align: right;\">\n",
       "      <th></th>\n",
       "      <th>Precision</th>\n",
       "      <th>Recall</th>\n",
       "      <th>F1-Score</th>\n",
       "    </tr>\n",
       "  </thead>\n",
       "  <tbody>\n",
       "    <tr>\n",
       "      <th>BOW-count</th>\n",
       "      <td>0.813953</td>\n",
       "      <td>0.875</td>\n",
       "      <td>0.843373</td>\n",
       "    </tr>\n",
       "    <tr>\n",
       "      <th>BOW-tfidf</th>\n",
       "      <td>0.841584</td>\n",
       "      <td>0.850</td>\n",
       "      <td>0.845771</td>\n",
       "    </tr>\n",
       "    <tr>\n",
       "      <th>BOCN-count</th>\n",
       "      <td>0.806763</td>\n",
       "      <td>0.835</td>\n",
       "      <td>0.820639</td>\n",
       "    </tr>\n",
       "    <tr>\n",
       "      <th>BOCN-tfidf</th>\n",
       "      <td>0.800948</td>\n",
       "      <td>0.845</td>\n",
       "      <td>0.822384</td>\n",
       "    </tr>\n",
       "    <tr>\n",
       "      <th>BOW+BOCN</th>\n",
       "      <td>0.843137</td>\n",
       "      <td>0.860</td>\n",
       "      <td>0.851485</td>\n",
       "    </tr>\n",
       "  </tbody>\n",
       "</table>\n",
       "</div>"
      ],
      "text/plain": [
       "            Precision  Recall  F1-Score\n",
       "BOW-count    0.813953   0.875  0.843373\n",
       "BOW-tfidf    0.841584   0.850  0.845771\n",
       "BOCN-count   0.806763   0.835  0.820639\n",
       "BOCN-tfidf   0.800948   0.845  0.822384\n",
       "BOW+BOCN     0.843137   0.860  0.851485"
      ]
     },
     "execution_count": 67,
     "metadata": {},
     "output_type": "execute_result"
    }
   ],
   "source": [
    "full_results"
   ]
  }
 ],
 "metadata": {
  "colab": {
   "collapsed_sections": [],
   "name": "assignment 1 to submit.ipynb",
   "provenance": []
  },
  "kernelspec": {
   "display_name": "Python 3",
   "language": "python",
   "name": "python3"
  },
  "language_info": {
   "codemirror_mode": {
    "name": "ipython",
    "version": 3
   },
   "file_extension": ".py",
   "mimetype": "text/x-python",
   "name": "python",
   "nbconvert_exporter": "python",
   "pygments_lexer": "ipython3",
   "version": "3.8.8"
  }
 },
 "nbformat": 4,
 "nbformat_minor": 1
}
